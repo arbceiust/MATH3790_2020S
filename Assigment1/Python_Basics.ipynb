{
  "nbformat": 4,
  "nbformat_minor": 0,
  "metadata": {
    "kernelspec": {
      "display_name": "Python 3",
      "language": "python",
      "name": "python3"
    },
    "language_info": {
      "codemirror_mode": {
        "name": "ipython",
        "version": 3
      },
      "file_extension": ".py",
      "mimetype": "text/x-python",
      "name": "python",
      "nbconvert_exporter": "python",
      "pygments_lexer": "ipython3",
      "version": "3.7.3"
    },
    "colab": {
      "name": "Copy of Python_Basics.ipynb",
      "provenance": []
    }
  },
  "cells": [
    {
      "cell_type": "markdown",
      "metadata": {
        "id": "RDBI8JN25gpZ",
        "colab_type": "text"
      },
      "source": [
        "# This is our first jupyter notebook"
      ]
    },
    {
      "cell_type": "markdown",
      "metadata": {
        "id": "APaYeCnO5gpb",
        "colab_type": "text"
      },
      "source": [
        "### Markdown cell example:\n",
        "$x = \\frac{-b\\pm\\sqrt{b^2-4ac}}{2a}$"
      ]
    },
    {
      "cell_type": "markdown",
      "metadata": {
        "id": "FthdG4mB5gpc",
        "colab_type": "text"
      },
      "source": [
        "## Basic programming aspects of Python"
      ]
    },
    {
      "cell_type": "code",
      "metadata": {
        "id": "RRrYCSlQ5gpe",
        "colab_type": "code",
        "outputId": "2b3fcd56-b726-4242-acf2-7c0dd31e9ab0",
        "colab": {}
      },
      "source": [
        "#print the version of python you are using:\n",
        "import sys\n",
        "print(\"Python version\")\n",
        "print (sys.version)"
      ],
      "execution_count": 0,
      "outputs": [
        {
          "output_type": "stream",
          "text": [
            "Python version\n",
            "3.7.3 (default, Mar 27 2019, 17:13:21) [MSC v.1915 64 bit (AMD64)]\n"
          ],
          "name": "stdout"
        }
      ]
    },
    {
      "cell_type": "markdown",
      "metadata": {
        "id": "MxSwEeGg5gpj",
        "colab_type": "text"
      },
      "source": [
        "#### Variables"
      ]
    },
    {
      "cell_type": "code",
      "metadata": {
        "id": "EV-tu_kS5gpk",
        "colab_type": "code",
        "outputId": "ab515eca-753f-43e2-b082-d94b73b5fdbc",
        "colab": {}
      },
      "source": [
        "#Two types of key variables: numerical and string\n",
        "x = 10  # Integer variable\n",
        "y = \"Hello World\"  # String variable\n",
        " \n",
        "# Displaying variables value using **print** statement\n",
        "print(x)\n",
        "print(y)"
      ],
      "execution_count": 0,
      "outputs": [
        {
          "output_type": "stream",
          "text": [
            "10\n",
            "Hello World\n"
          ],
          "name": "stdout"
        }
      ]
    },
    {
      "cell_type": "code",
      "metadata": {
        "id": "DWznUKLh5gpp",
        "colab_type": "code",
        "outputId": "475bffe7-1c17-4593-f269-985559bf71e9",
        "colab": {}
      },
      "source": [
        "#Checking type of variable\n",
        "var1 = 'Hello World'\n",
        "print(type(var1))\n",
        " \n",
        "var2 = 100\n",
        "if type(var2) == int:\n",
        "    print('Integer')"
      ],
      "execution_count": 0,
      "outputs": [
        {
          "output_type": "stream",
          "text": [
            "<class 'str'>\n",
            "Integer\n"
          ],
          "name": "stdout"
        }
      ]
    },
    {
      "cell_type": "markdown",
      "metadata": {
        "id": "6SL1fYbW5gps",
        "colab_type": "text"
      },
      "source": [
        "### Execise 1:\n",
        "\n",
        "Write a Python program to print the following string in a specific format using \\n and \\t (see the output). Go to the editor\n",
        "Sample String : \"Twinkle, twinkle, little star, How I wonder what you are! Up above the world so high, Like a diamond in the sky. Twinkle, twinkle, little star, How I wonder what you are\" Output :"
      ]
    },
    {
      "cell_type": "code",
      "metadata": {
        "id": "t6-vS8MA5gpt",
        "colab_type": "code",
        "outputId": "76b5dbf2-3106-4f54-b8cc-b81258882f99",
        "colab": {}
      },
      "source": [
        "print(\"\"\"Twinkle, twinkle, little star,\n",
        "    How I wonder what you are! \n",
        "        Up above the world so high,\n",
        "        Like a diamond in the sky. \n",
        "Twinkle, twinkle, little star, \n",
        "    How I wonder what you are\"\"\")"
      ],
      "execution_count": 0,
      "outputs": [
        {
          "output_type": "stream",
          "text": [
            "Twinkle, twinkle, little star,\n",
            "    How I wonder what you are! \n",
            "        Up above the world so high,\n",
            "        Like a diamond in the sky. \n",
            "Twinkle, twinkle, little star, \n",
            "    How I wonder what you are\n"
          ],
          "name": "stdout"
        }
      ]
    },
    {
      "cell_type": "code",
      "metadata": {
        "id": "bBt9wBtL5ngk",
        "colab_type": "code",
        "colab": {
          "base_uri": "https://localhost:8080/",
          "height": 119
        },
        "outputId": "188b1333-349a-43f0-ad74-9b8eff2856af"
      },
      "source": [
        "print(\"Twinkle, twinkle, little star,\\n    How I wonder what you are!\\n\\tUp above the world so high,\\n\\tLike a diamond in the sky.\\nTwinkle, twinkle, little star,\\n    How I wonder what you are\")"
      ],
      "execution_count": 13,
      "outputs": [
        {
          "output_type": "stream",
          "text": [
            "Twinkle, twinkle, little star,\n",
            "    How I wonder what you are!\n",
            "\tUp above the world so high,\n",
            "\tLike a diamond in the sky.\n",
            "Twinkle, twinkle, little star,\n",
            "    How I wonder what you are\n"
          ],
          "name": "stdout"
        }
      ]
    },
    {
      "cell_type": "markdown",
      "metadata": {
        "id": "qopQi1N15gp0",
        "colab_type": "text"
      },
      "source": [
        "#### Functions"
      ]
    },
    {
      "cell_type": "code",
      "metadata": {
        "id": "2cDrsWPR5gp1",
        "colab_type": "code",
        "outputId": "e2c0c4f2-1f0f-4bd9-8569-e437a7e29a05",
        "colab": {}
      },
      "source": [
        "#Here is an example of a basic function\n",
        "def square(x):\n",
        "    \"\"\"This program calculates the square\n",
        "    input is x\n",
        "    returns the square of x\"\"\"\n",
        "    out = x*x\n",
        "    return out\n",
        "\n",
        "print(square(10))"
      ],
      "execution_count": 0,
      "outputs": [
        {
          "output_type": "stream",
          "text": [
            "100\n"
          ],
          "name": "stdout"
        }
      ]
    },
    {
      "cell_type": "code",
      "metadata": {
        "id": "-TWcraTH5gp5",
        "colab_type": "code",
        "outputId": "113fd616-da55-4151-c3ff-866ee4f0680a",
        "colab": {}
      },
      "source": [
        "a = int(input(\"Input an integer : \"))\n",
        "print(square(a))"
      ],
      "execution_count": 0,
      "outputs": [
        {
          "output_type": "stream",
          "text": [
            "Input an integer : 57\n",
            "3249\n"
          ],
          "name": "stdout"
        }
      ]
    },
    {
      "cell_type": "markdown",
      "metadata": {
        "id": "XPrIqkvj5gp8",
        "colab_type": "text"
      },
      "source": [
        "### Exercise 2:\n",
        "Write a Python program that accepts an integer (n) and computes the value of n+nn+nnn."
      ]
    },
    {
      "cell_type": "code",
      "metadata": {
        "id": "eGyCQ4cK61R4",
        "colab_type": "code",
        "colab": {
          "base_uri": "https://localhost:8080/",
          "height": 51
        },
        "outputId": "18243558-342f-404f-d06c-e7f7b670bf73"
      },
      "source": [
        "def addn(x):\n",
        "  #This function calculates n+nn+nnn given an int input\n",
        "    out = x + ((x*10) + x )+ (x*100 + ((x*10) + x))\n",
        "    return out\n",
        "\n",
        "n = int(input(\"Input an integer: \"))\n",
        "print(addn(n))"
      ],
      "execution_count": 30,
      "outputs": [
        {
          "output_type": "stream",
          "text": [
            "Input an integer: 5\n",
            "615\n"
          ],
          "name": "stdout"
        }
      ]
    },
    {
      "cell_type": "markdown",
      "metadata": {
        "id": "LqCgqEog5gp9",
        "colab_type": "text"
      },
      "source": [
        "#### Conditionals"
      ]
    },
    {
      "cell_type": "code",
      "metadata": {
        "id": "V9ri29Rb5gp9",
        "colab_type": "code",
        "outputId": "29e40056-9a0e-4a23-ae7e-1b3593b227a3",
        "colab": {}
      },
      "source": [
        "#if statement\n",
        "x = 10\n",
        "y = 20\n",
        " \n",
        "if x < y:\n",
        "    print(\"x is less than y\")"
      ],
      "execution_count": 0,
      "outputs": [
        {
          "output_type": "stream",
          "text": [
            "x is less than y\n"
          ],
          "name": "stdout"
        }
      ]
    },
    {
      "cell_type": "code",
      "metadata": {
        "id": "GzqKJ85s5gqD",
        "colab_type": "code",
        "outputId": "827c91af-0124-4cc0-83b7-33e5d01a0651",
        "colab": {}
      },
      "source": [
        "#if-then-else\n",
        "x = 10\n",
        "y = 5\n",
        " \n",
        "if x < y:\n",
        "    print(\"x is less than y\")\n",
        "else:\n",
        "    print(\"y is less than x\")"
      ],
      "execution_count": 0,
      "outputs": [
        {
          "output_type": "stream",
          "text": [
            "y is less than x\n"
          ],
          "name": "stdout"
        }
      ]
    },
    {
      "cell_type": "markdown",
      "metadata": {
        "id": "LjcWAF_S5gqH",
        "colab_type": "text"
      },
      "source": [
        "### Exercise 3:\n",
        "Write a Python program to find whether a given number (accept from the user) is even or odd, print out an appropriate message to the user"
      ]
    },
    {
      "cell_type": "code",
      "metadata": {
        "id": "zGYZhnQK8Y_U",
        "colab_type": "code",
        "colab": {
          "base_uri": "https://localhost:8080/",
          "height": 51
        },
        "outputId": "f549040e-c12e-492f-d1df-3fb1fb4a56d5"
      },
      "source": [
        "x = int(input(\"Enter an integer: \"))\n",
        "\n",
        "if x == 0:\n",
        "  print(\"Zero is neither an odd nor an even number\")\n",
        "elif x%2 == 0:\n",
        "  print(\"It is an even number\")\n",
        "else:\n",
        "    print(\"It is an odd number\")\n"
      ],
      "execution_count": 35,
      "outputs": [
        {
          "output_type": "stream",
          "text": [
            "Enter an integer: 3\n",
            "It is an odd number\n"
          ],
          "name": "stdout"
        }
      ]
    },
    {
      "cell_type": "code",
      "metadata": {
        "id": "Vc_Iitrd5gqI",
        "colab_type": "code",
        "outputId": "4f04a0cc-6bd7-457c-bef0-98fd04fdee92",
        "colab": {}
      },
      "source": [
        "#extension\n",
        "x = 10\n",
        "y = 10\n",
        "z = 15\n",
        " \n",
        "if x < y:\n",
        "    print(\"x is less than y\")\n",
        "elif x < z:\n",
        "    print(\"x is less than z\")\n",
        "else:\n",
        "    print(\"x is equal to y\")"
      ],
      "execution_count": 0,
      "outputs": [
        {
          "output_type": "stream",
          "text": [
            "x is less than z\n"
          ],
          "name": "stdout"
        }
      ]
    },
    {
      "cell_type": "markdown",
      "metadata": {
        "id": "hVAfbN6O5gqL",
        "colab_type": "text"
      },
      "source": [
        "### Exercise 4:\n",
        "Write a Python program to test and print whether the input number is within 100 of 1000."
      ]
    },
    {
      "cell_type": "code",
      "metadata": {
        "id": "6aPAvdue9YVT",
        "colab_type": "code",
        "colab": {
          "base_uri": "https://localhost:8080/",
          "height": 51
        },
        "outputId": "f0cff49b-3377-4ae4-b5ea-61e7eedbe63a"
      },
      "source": [
        "def near_thousand(n):\n",
        "      return (abs(1000 - n) <= 100)\n",
        "      \n",
        "x = int(input(\"Enter a number: \"))\n",
        "print(near_thousand(x))\n"
      ],
      "execution_count": 44,
      "outputs": [
        {
          "output_type": "stream",
          "text": [
            "Enter a number: 980\n",
            "True\n"
          ],
          "name": "stdout"
        }
      ]
    },
    {
      "cell_type": "markdown",
      "metadata": {
        "id": "TDs2in6N5gqM",
        "colab_type": "text"
      },
      "source": [
        "#### For loops"
      ]
    },
    {
      "cell_type": "code",
      "metadata": {
        "id": "1cedZDEm5gqM",
        "colab_type": "code",
        "outputId": "941801c3-5049-4e3a-cf5f-ab65797df276",
        "colab": {}
      },
      "source": [
        "for number in [1, 2, 3, 4, 5]:\n",
        "    print(number)"
      ],
      "execution_count": 0,
      "outputs": [
        {
          "output_type": "stream",
          "text": [
            "1\n",
            "2\n",
            "3\n",
            "4\n",
            "5\n"
          ],
          "name": "stdout"
        }
      ]
    },
    {
      "cell_type": "code",
      "metadata": {
        "id": "D-onQlNa5gqP",
        "colab_type": "code",
        "outputId": "1c7fbd30-8516-4d6c-f268-a5538180688a",
        "colab": {}
      },
      "source": [
        "for number in range(5):\n",
        "    print(\"Python\")"
      ],
      "execution_count": 0,
      "outputs": [
        {
          "output_type": "stream",
          "text": [
            "Python\n",
            "Python\n",
            "Python\n",
            "Python\n",
            "Python\n"
          ],
          "name": "stdout"
        }
      ]
    },
    {
      "cell_type": "markdown",
      "metadata": {
        "id": "0Qhib3Xy5gqU",
        "colab_type": "text"
      },
      "source": [
        "#### Data structures"
      ]
    },
    {
      "cell_type": "code",
      "metadata": {
        "id": "B2tkzuI05gqX",
        "colab_type": "code",
        "outputId": "0928b17e-c8f4-429e-e9c2-268ae29906af",
        "colab": {}
      },
      "source": [
        "#List of various entities\n",
        "intList = [10, 20, 30, 40]\n",
        "strList = [\"Canada\", \"Japan\", \"London\"]\n",
        "mixList = [\"Canada\", 20, True, 500.50]\n",
        "generate = [x + 6 for x in [4, 5, 6]]  # Generate from loop: list comprehension\n",
        "listfromtuple = list((5, 13, 15, 17, 29))  # List from a tuple\n",
        "python = list('python')  # List from a string\n",
        " \n",
        "print(intList)\n",
        "print(strList)\n",
        "print(mixList)\n",
        "print(generate)\n",
        "print(listfromtuple)\n",
        "print(python)"
      ],
      "execution_count": 0,
      "outputs": [
        {
          "output_type": "stream",
          "text": [
            "[10, 20, 30, 40]\n",
            "['Canada', 'Japan', 'London']\n",
            "['Canada', 20, True, 500.5]\n",
            "[10, 11, 12]\n",
            "[5, 13, 15, 17, 29]\n",
            "['p', 'y', 't', 'h', 'o', 'n']\n"
          ],
          "name": "stdout"
        }
      ]
    },
    {
      "cell_type": "code",
      "metadata": {
        "id": "n3t41cah5gqm",
        "colab_type": "code",
        "outputId": "b3a71bf0-08d3-4eed-dfc6-b2351c010ec2",
        "colab": {}
      },
      "source": [
        "#Accessing list items by index\n",
        "testList = [\"Canada\", \"Japan\", \"London\"]\n",
        "print(testList[1])\n",
        "print(testList[-2])"
      ],
      "execution_count": 0,
      "outputs": [
        {
          "output_type": "stream",
          "text": [
            "Japan\n",
            "Japan\n"
          ],
          "name": "stdout"
        }
      ]
    },
    {
      "cell_type": "code",
      "metadata": {
        "id": "Y7aSB0b45gqr",
        "colab_type": "code",
        "outputId": "279a4138-0608-4c7f-ae2d-d3eea351a541",
        "colab": {}
      },
      "source": [
        "#Changing list items directly\n",
        "testList = [\"Canada\", \"Japan\", \"London\"]\n",
        "print(testList)\n",
        " \n",
        "testList[0] = \"Germany\"\n",
        "testList[1] = 100\n",
        "print(testList)"
      ],
      "execution_count": 0,
      "outputs": [
        {
          "output_type": "stream",
          "text": [
            "['Canada', 'Japan', 'London']\n",
            "['Germany', 100, 'London']\n"
          ],
          "name": "stdout"
        }
      ]
    },
    {
      "cell_type": "code",
      "metadata": {
        "id": "CPNd4Kwl5gqu",
        "colab_type": "code",
        "outputId": "69b89852-2d72-432f-acfa-623cdc60d634",
        "colab": {}
      },
      "source": [
        "#Removing duplicate entries in a list:\n",
        "testList = [\"Canada\", \"Japan\", \"Canada\", \"Germany\", \"Japan\", \"Italy\"]\n",
        "\n",
        "print(testList)\n",
        " \n",
        "cleanlist = []\n",
        "#The following is an example if a powerful Python utility called \"list comprehension\"\n",
        "[cleanlist.append(x) for x in testList if x not in cleanlist]\n",
        "\n",
        "print(cleanlist)"
      ],
      "execution_count": 0,
      "outputs": [
        {
          "output_type": "stream",
          "text": [
            "['Canada', 'Japan', 'Canada', 'Germany', 'Japan', 'Italy']\n",
            "['Canada', 'Japan', 'Germany', 'Italy']\n"
          ],
          "name": "stdout"
        }
      ]
    },
    {
      "cell_type": "code",
      "metadata": {
        "id": "xxr0BqZ45gqx",
        "colab_type": "code",
        "outputId": "60111b68-eda4-46ee-fe4a-75d4d0e26345",
        "colab": {}
      },
      "source": [
        "#The difference between two lists:\n",
        "list1 = [\"Canada\", \"Japan\", \"Canada\", \"Germany\", \"Japan\", \"Italy\"]\n",
        "list2 = [\"Germany\", \"France\", \"Poland\", \"Italy\", \"India\", \"London\"]\n",
        "\n",
        "#when chaning a list to a set, only unique entries are kept and in no specific order \n",
        "sub1 = list(set(list1) - set(list2))\n",
        "print(sub1)\n",
        " \n",
        "sub2 = list(set(list2) - set(list1))\n",
        "print(sub2)"
      ],
      "execution_count": 0,
      "outputs": [
        {
          "output_type": "stream",
          "text": [
            "['Canada', 'Japan']\n",
            "['Poland', 'London', 'India', 'France']\n"
          ],
          "name": "stdout"
        }
      ]
    },
    {
      "cell_type": "markdown",
      "metadata": {
        "id": "Z7oSFnNZ5gq2",
        "colab_type": "text"
      },
      "source": [
        "### Exercise 5\n",
        "Write a Python program to print out a set containing all the colors from color_list_1 which are not present in color_list_2.    Here is an example:  \n",
        "\n",
        "Test Data :  \n",
        "color_list_1 = set([\"White\", \"Black\", \"Red\"])  \n",
        "color_list_2 = set([\"Red\", \"Green\"])  \n",
        "Expected Output :  \n",
        "{'Black', 'White'}  "
      ]
    },
    {
      "cell_type": "code",
      "metadata": {
        "id": "KeA7Ewwh-_HT",
        "colab_type": "code",
        "colab": {
          "base_uri": "https://localhost:8080/",
          "height": 34
        },
        "outputId": "0c182e44-d529-40b8-a6a3-122bbcc554a2"
      },
      "source": [
        "color_list_1 = set([\"White\", \"Black\", \"Red\"])\n",
        "color_list_2 = set([\"Red\", \"Green\"])\n",
        "\n",
        "list1 = list(set(color_list_1) - set(color_list_2))\n",
        "list1.sort()\n",
        "print(list1)\n"
      ],
      "execution_count": 51,
      "outputs": [
        {
          "output_type": "stream",
          "text": [
            "['Black', 'White']\n"
          ],
          "name": "stdout"
        }
      ]
    },
    {
      "cell_type": "markdown",
      "metadata": {
        "id": "aw_fEA_L5gq4",
        "colab_type": "text"
      },
      "source": [
        "#### Dictionaries are a more general type of list, where each entry is a key:value pair\n",
        "#There are many ways to generate dictionaries"
      ]
    },
    {
      "cell_type": "code",
      "metadata": {
        "id": "oq2U_bJB5gq5",
        "colab_type": "code",
        "outputId": "465b353a-619b-497a-d227-50dc1070106f",
        "colab": {
          "base_uri": "https://localhost:8080/",
          "height": 102
        }
      },
      "source": [
        "#The follwoing are all equivalent ways of creating the same dictionary\n",
        "\n",
        "d1 = dict(Canada=100, Japan=500)\n",
        "d2 = {'Canada': 100, 'Japan': 500}\n",
        "d3 = dict(zip(['Canada', 'Japan'], [100, 500]))\n",
        "d4 = dict([('Canada', 100), ('Japan', 500)])\n",
        "d5 = dict({'Japan': 500, 'Canada': 100})\n",
        "print(d1)\n",
        "print(d2)\n",
        "print(d3)\n",
        "print(d4)\n",
        "print(d5)   "
      ],
      "execution_count": 64,
      "outputs": [
        {
          "output_type": "stream",
          "text": [
            "{'Canada': 100, 'Japan': 500}\n",
            "{'Canada': 100, 'Japan': 500}\n",
            "{'Canada': 100, 'Japan': 500}\n",
            "{'Canada': 100, 'Japan': 500}\n",
            "{'Japan': 500, 'Canada': 100}\n"
          ],
          "name": "stdout"
        }
      ]
    },
    {
      "cell_type": "code",
      "metadata": {
        "id": "QDQCHtGp5gq9",
        "colab_type": "code",
        "outputId": "9d3249e1-4d50-4164-bccb-ff1b47b6a645",
        "colab": {}
      },
      "source": [
        "#here are ways to get values of keys from a dictionary:\n",
        "d1 = {'Canada': 100, 'Japan': 500}\n",
        "x = d1[\"Canada\"]\n",
        "y = d1.get(\"Japan\")\n",
        "print(x)\n",
        "print(y)"
      ],
      "execution_count": 0,
      "outputs": [
        {
          "output_type": "stream",
          "text": [
            "100\n",
            "500\n"
          ],
          "name": "stdout"
        }
      ]
    },
    {
      "cell_type": "markdown",
      "metadata": {
        "id": "6JrLhBJn5gq_",
        "colab_type": "text"
      },
      "source": [
        "#### to retrieve keys and values as lists"
      ]
    },
    {
      "cell_type": "code",
      "metadata": {
        "id": "ApS9SKD65grA",
        "colab_type": "code",
        "outputId": "cbcdc6f2-df4f-4d12-ad02-485803c73406",
        "colab": {}
      },
      "source": [
        "for item in d1.keys():\n",
        "    print(item)"
      ],
      "execution_count": 0,
      "outputs": [
        {
          "output_type": "stream",
          "text": [
            "Canada\n",
            "Japan\n"
          ],
          "name": "stdout"
        }
      ]
    },
    {
      "cell_type": "code",
      "metadata": {
        "id": "y8kEyWM05grE",
        "colab_type": "code",
        "outputId": "28a1131f-3aab-4ba3-ba46-24c690259838",
        "colab": {}
      },
      "source": [
        "##values as a list\n",
        "list(d1.values())"
      ],
      "execution_count": 0,
      "outputs": [
        {
          "output_type": "execute_result",
          "data": {
            "text/plain": [
              "[100, 500]"
            ]
          },
          "metadata": {
            "tags": []
          },
          "execution_count": 31
        }
      ]
    },
    {
      "cell_type": "markdown",
      "metadata": {
        "id": "GAaeZbmh5grI",
        "colab_type": "text"
      },
      "source": [
        "### Exercise 6\n",
        "Print each of the keys and corresponding values, one per line, in a dictionary (say d3) in the format: key = value"
      ]
    },
    {
      "cell_type": "code",
      "metadata": {
        "id": "UXVfFdE2A9bh",
        "colab_type": "code",
        "colab": {
          "base_uri": "https://localhost:8080/",
          "height": 51
        },
        "outputId": "6d5b0687-3a31-46fa-bfca-99d1bf9c8856"
      },
      "source": [
        "for key, value in d3.items():\n",
        "    print (key, value)"
      ],
      "execution_count": 72,
      "outputs": [
        {
          "output_type": "stream",
          "text": [
            "Canada 100\n",
            "Japan 500\n"
          ],
          "name": "stdout"
        }
      ]
    },
    {
      "cell_type": "markdown",
      "metadata": {
        "id": "x510C8eO5grL",
        "colab_type": "text"
      },
      "source": [
        "#### Classes and Objects"
      ]
    },
    {
      "cell_type": "code",
      "metadata": {
        "id": "5l2X6wLQ5grM",
        "colab_type": "code",
        "colab": {}
      },
      "source": [
        "#A class is an abstraction of an entity\n",
        "class Employee:\n",
        "    name = \"John\"\n",
        "    age = 26"
      ],
      "execution_count": 0,
      "outputs": []
    },
    {
      "cell_type": "code",
      "metadata": {
        "id": "n6Q9NrqZ5grO",
        "colab_type": "code",
        "outputId": "a0c51a01-5148-4dff-c184-55091dd16088",
        "colab": {}
      },
      "source": [
        "#Here is how to create an object of the class Employee\n",
        "e = Employee()\n",
        "print(e.name, e.age)\n",
        "print(type(e))  # <class '__main__.Employee'>"
      ],
      "execution_count": 0,
      "outputs": [
        {
          "output_type": "stream",
          "text": [
            "John 26\n",
            "<class '__main__.Employee'>\n"
          ],
          "name": "stdout"
        }
      ]
    },
    {
      "cell_type": "code",
      "metadata": {
        "id": "ycxO6pOp5grQ",
        "colab_type": "code",
        "outputId": "6235533e-50e0-4d02-f2fd-9150cd11a4ea",
        "colab": {}
      },
      "source": [
        "#Typically a class object will have initializer to set initial value to its attributes, as in this example:\n",
        "class Employee:\n",
        "    def __init__(self, name, age):\n",
        "        self.name = name\n",
        "        self.age = age\n",
        " \n",
        " \n",
        "e = Employee(\"Sam\", 36)\n",
        "print(e.name, e.age)"
      ],
      "execution_count": 0,
      "outputs": [
        {
          "output_type": "stream",
          "text": [
            "Sam 36\n"
          ],
          "name": "stdout"
        }
      ]
    },
    {
      "cell_type": "code",
      "metadata": {
        "id": "8E1XAwDp5grV",
        "colab_type": "code",
        "outputId": "1f3fa7fc-f501-4246-b5d4-e6971674ff1d",
        "colab": {
          "base_uri": "https://localhost:8080/",
          "height": 51
        }
      },
      "source": [
        "#Another important part of a class object are its methods\n",
        "class Employee:\n",
        "    def __init__(self, name, age):\n",
        "        self.name = name\n",
        "        self.age = age\n",
        "    \n",
        "    #method \"details\"\n",
        "    def details(self):\n",
        "        print(\"Employee Name:\",  self.name)\n",
        "        print(\"Employee Age:\", self.age)\n",
        " \n",
        " \n",
        "emp = Employee(\"Samuel\", 36)\n",
        "emp.details()"
      ],
      "execution_count": 82,
      "outputs": [
        {
          "output_type": "stream",
          "text": [
            "Employee Name: Samuel\n",
            "Employee Age: 36\n"
          ],
          "name": "stdout"
        }
      ]
    },
    {
      "cell_type": "markdown",
      "metadata": {
        "id": "6yT5sWBt5grZ",
        "colab_type": "text"
      },
      "source": [
        "### Exercise 7:\n",
        "Create a python class \"Student\" with \n",
        "\n",
        "- attributes: name, age, major, year in college\n",
        "- methods: \n",
        "           1. __init__ that allows to initialize the each Student instance with attributes when created\n",
        "           2. details that prints out name, age and major when called"
      ]
    },
    {
      "cell_type": "code",
      "metadata": {
        "id": "g1w3b7ga5grb",
        "colab_type": "code",
        "colab": {
          "base_uri": "https://localhost:8080/",
          "height": 170
        },
        "outputId": "69c53e2c-a624-45de-ad38-4202dc5c24c8"
      },
      "source": [
        "class Student:\n",
        "    def __init__(self, name, age, major, year):\n",
        "        self.name = name\n",
        "        self.age = age\n",
        "        self.major = major\n",
        "        self.year = year\n",
        "    \n",
        "    #method \"details\"\n",
        "    #I added the college year, since it is part of the attributes\n",
        "    def details(self):\n",
        "        print(\"Student Name:\",  self.name)\n",
        "        print(\"Student Age:\", self.age)\n",
        "        print(\"Student Major:\", self.major)\n",
        "        print(\"Student year:\", self.year)\n",
        " \n",
        " \n",
        "student1 = Student(\"Ann\", 19, \"Mathematics\", 2021)\n",
        "student1.details()\n",
        "print(\"--------------------------\")\n",
        "student2 = Student(\"Grey\", 20, \"Biology\", 2021)\n",
        "student2.details()"
      ],
      "execution_count": 103,
      "outputs": [
        {
          "output_type": "stream",
          "text": [
            "Student Name: Ann\n",
            "Student Age: 19\n",
            "Student Major: Mathematics\n",
            "Student year: 2021\n",
            "--------------------------\n",
            "Student Name: Grey\n",
            "Student Age: 20\n",
            "Student Major: Biology\n",
            "Student year: 2021\n"
          ],
          "name": "stdout"
        }
      ]
    }
  ]
}