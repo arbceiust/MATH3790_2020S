{
  "nbformat": 4,
  "nbformat_minor": 0,
  "metadata": {
    "kernelspec": {
      "display_name": "Python 3",
      "language": "python",
      "name": "python3"
    },
    "language_info": {
      "codemirror_mode": {
        "name": "ipython",
        "version": 3
      },
      "file_extension": ".py",
      "mimetype": "text/x-python",
      "name": "python",
      "nbconvert_exporter": "python",
      "pygments_lexer": "ipython3",
      "version": "3.7.6"
    },
    "colab": {
      "name": "Assign4_final_20.ipynb",
      "provenance": [],
      "collapsed_sections": [
        "igWlpslZhXOd",
        "477FSMlzhXOh",
        "Zeyyvdr_hXOk",
        "8BVvvEqnhXOo",
        "AC-Uyi6rhXO4",
        "WNpjWzIYhXQH",
        "JG63NetWhXQk"
      ]
    }
  },
  "cells": [
    {
      "cell_type": "markdown",
      "metadata": {
        "id": "RSqrJgV_hXNo",
        "colab_type": "text"
      },
      "source": [
        "### Logistic Regression with Gradient Descent: A Classification Exercise - #4\n",
        "### Due: March 18th, 2020 ###\n",
        "\n",
        "**In this exercise you are going to complete the code necessary for a supervised classification problem**  \n",
        "\n",
        "We start by generating a set of points ($x_1,x_2$) to roughly cover the 2-dimensional plane.  Then we decide on curve that seperates points into two sets: First the inside and outside of the unit circle.  We the create a lable variable y with values 1 and 0 for points inside and outside.  Then we pick 6 features that are variables $1, x_1, x_2, x_1^2, x_2^2, and\\ x_1x_2$ .  Our objective is to use the standard gradient descent method minimize a the cost function for the logistic regression hypothesis function, and have the program figure out the optimal coefficients among the features for the correct boundary.\n",
        "\n",
        "This exercise takes you through 4 basic steps:\n",
        "\n",
        "- Generating a simulated set of data and labels\n",
        "- Constructing a set of features\n",
        "- Writing the Cost function for logistic regression\n",
        "- Gradient Descent for logistic regression\n",
        "\n",
        "You will also apply the packaged logistic regression model from sklearn and compare with our own solution\n",
        "\n",
        "Packages Used:  \n",
        "\n",
        "**pandas** for data frames and easy to read csv files   \n",
        "**numpy** for array and matrix mathematics functions  \n",
        "**matplotlib** for plotting  \n",
        "and **LogisticRegression** from sklearn.linear_model  "
      ]
    },
    {
      "cell_type": "code",
      "metadata": {
        "id": "qN_D_44WhXNr",
        "colab_type": "code",
        "colab": {}
      },
      "source": [
        "import numpy as np\n",
        "import pandas as pd\n",
        "import matplotlib.pyplot as plt\n",
        "\n",
        "%matplotlib inline"
      ],
      "execution_count": 0,
      "outputs": []
    },
    {
      "cell_type": "markdown",
      "metadata": {
        "id": "-wARs2mYhXNv",
        "colab_type": "text"
      },
      "source": [
        "### Let us generate sufficient point to cover the x-y plane"
      ]
    },
    {
      "cell_type": "code",
      "metadata": {
        "id": "ERUzGr4WhXNw",
        "colab_type": "code",
        "colab": {}
      },
      "source": [
        "np.random.seed(42)\n",
        "m = 50000\n",
        "\n",
        "#Now generate 5,000 points points within square [-3, 3] X [-3, 3]\n",
        "X_data = np.random.uniform([-3,-3],[3,3], size=(m,2))"
      ],
      "execution_count": 0,
      "outputs": []
    },
    {
      "cell_type": "code",
      "metadata": {
        "id": "lzP1O11khXNz",
        "colab_type": "code",
        "outputId": "47b1e5af-d9dd-4719-ad77-abdce6a63952",
        "colab": {}
      },
      "source": [
        "X_data.shape"
      ],
      "execution_count": 0,
      "outputs": [
        {
          "output_type": "execute_result",
          "data": {
            "text/plain": [
              "(50000, 2)"
            ]
          },
          "metadata": {
            "tags": []
          },
          "execution_count": 3
        }
      ]
    },
    {
      "cell_type": "code",
      "metadata": {
        "id": "n60lfDTvhXN3",
        "colab_type": "code",
        "outputId": "d5455ba1-b3f7-4608-dc5a-0605087f4b32",
        "colab": {}
      },
      "source": [
        "#Let's plot this simulated points on the plane\n",
        "fig = plt.figure(figsize=(10,10))\n",
        "plt.scatter(X_data[:,0], X_data[:,1])\n",
        "plt.title('The canvas: 5,000 points in the [-3,3]X[-3,3] range')\n",
        "plt.xlabel('x1', fontsize = 14)\n",
        "plt.ylabel('x2', fontsize = 14)\n",
        "plt.show()"
      ],
      "execution_count": 0,
      "outputs": [
        {
          "output_type": "display_data",
          "data": {
            "image/png": "[encoded data removed]",
            "text/plain": [
              "<matplotlib.figure.Figure at 0x15b957e0e48>"
            ]
          },
          "metadata": {
            "tags": []
          }
        }
      ]
    },
    {
      "cell_type": "markdown",
      "metadata": {
        "id": "-vGgwq25hXN6",
        "colab_type": "text"
      },
      "source": [
        "### The features are: $$ 1, x_1, x_2, x_1^2, x_2^2, x_1*x_2$$"
      ]
    },
    {
      "cell_type": "code",
      "metadata": {
        "id": "YBMU34XahXN7",
        "colab_type": "code",
        "colab": {}
      },
      "source": [
        "#Now we will create and stack the variables: the bias term - all ones, x1, x2, x2^2, and x2^2 into a feature matrix\n",
        "features_2 = np.vstack((np.ones(len(X_data)), X_data[:,0], X_data[:,1], X_data[:,0]*X_data[:,0], \n",
        "                      X_data[:,1]*X_data[:,1],  X_data[:,0]*X_data[:,1])).astype(np.float32)"
      ],
      "execution_count": 0,
      "outputs": []
    },
    {
      "cell_type": "code",
      "metadata": {
        "id": "WDbnKgq5hXN_",
        "colab_type": "code",
        "colab": {}
      },
      "source": [
        "#As is standard, our features now will be made into columns and for convenience we call the matrix X\n",
        "X = features_2.T.copy()"
      ],
      "execution_count": 0,
      "outputs": []
    },
    {
      "cell_type": "code",
      "metadata": {
        "id": "MimXdeeLhXOD",
        "colab_type": "code",
        "outputId": "34a5ffe4-df0a-4ca4-c9c2-a6bc8cf17a60",
        "colab": {}
      },
      "source": [
        "#Check to see we have the correct dimensions\n",
        "X.shape"
      ],
      "execution_count": 0,
      "outputs": [
        {
          "output_type": "execute_result",
          "data": {
            "text/plain": [
              "(50000, 6)"
            ]
          },
          "metadata": {
            "tags": []
          },
          "execution_count": 7
        }
      ]
    },
    {
      "cell_type": "code",
      "metadata": {
        "id": "WuneM1G6hXOF",
        "colab_type": "code",
        "colab": {}
      },
      "source": [
        "#Now create a empty label vector y\n",
        "y = np.zeros(X.shape[0])"
      ],
      "execution_count": 0,
      "outputs": []
    },
    {
      "cell_type": "markdown",
      "metadata": {
        "id": "3Da5Qk-PhXOK",
        "colab_type": "text"
      },
      "source": [
        "#### Now let us separate the points $x^2 + y^2 < 1$ from the rest"
      ]
    },
    {
      "cell_type": "code",
      "metadata": {
        "id": "dWefD9gchXOL",
        "colab_type": "code",
        "colab": {}
      },
      "source": [
        "#The points are seperated by a circle.  Does this make sense?\n",
        "y = (X[:,3] + X[:,4]) < 1"
      ],
      "execution_count": 0,
      "outputs": []
    },
    {
      "cell_type": "code",
      "metadata": {
        "id": "wVc4qPkFhXOO",
        "colab_type": "code",
        "colab": {}
      },
      "source": [
        "#y is a boolean vector of True and False, let's turn it into labels of 1 and 0\n",
        "labels = y*1"
      ],
      "execution_count": 0,
      "outputs": []
    },
    {
      "cell_type": "code",
      "metadata": {
        "id": "wAntoI90hXOR",
        "colab_type": "code",
        "outputId": "8017322c-007c-41e7-e608-43e0c6bca1f7",
        "colab": {}
      },
      "source": [
        "#take a look at the labels\n",
        "labels"
      ],
      "execution_count": 0,
      "outputs": [
        {
          "output_type": "execute_result",
          "data": {
            "text/plain": [
              "array([0, 0, 0, ..., 0, 0, 1])"
            ]
          },
          "metadata": {
            "tags": []
          },
          "execution_count": 11
        }
      ]
    },
    {
      "cell_type": "code",
      "metadata": {
        "id": "t-Xed7JnhXOV",
        "colab_type": "code",
        "outputId": "72a2581c-5603-4f83-8521-275d9875e2d5",
        "colab": {}
      },
      "source": [
        "#Don't see anything?  Try this!\n",
        "plt.hist(labels)"
      ],
      "execution_count": 0,
      "outputs": [
        {
          "output_type": "execute_result",
          "data": {
            "text/plain": [
              "(array([ 45664.,      0.,      0.,      0.,      0.,      0.,      0.,\n",
              "             0.,      0.,   4336.]),\n",
              " array([ 0. ,  0.1,  0.2,  0.3,  0.4,  0.5,  0.6,  0.7,  0.8,  0.9,  1. ]),\n",
              " <a list of 10 Patch objects>)"
            ]
          },
          "metadata": {
            "tags": []
          },
          "execution_count": 12
        },
        {
          "output_type": "display_data",
          "data": {
            "image/png": "[encoded data removed]",
            "text/plain": [
              "<matplotlib.figure.Figure at 0x15b957e0588>"
            ]
          },
          "metadata": {
            "tags": []
          }
        }
      ]
    },
    {
      "cell_type": "code",
      "metadata": {
        "id": "BVabs8aehXOZ",
        "colab_type": "code",
        "outputId": "1d47df5f-ea3a-4ddb-d7af-2f510da75cbb",
        "colab": {}
      },
      "source": [
        "# Visualize the data:\n",
        "fig = plt.figure(figsize=(8,8))\n",
        "plt.scatter(X[:,1], X[:,2], c=y, s=40, cmap=plt.cm.Spectral);"
      ],
      "execution_count": 0,
      "outputs": [
        {
          "output_type": "display_data",
          "data": {
            "image/png": "[encoded data removed]",
            "text/plain": [
              "<matplotlib.figure.Figure at 0x15b97a01940>"
            ]
          },
          "metadata": {
            "tags": []
          }
        }
      ]
    },
    {
      "cell_type": "markdown",
      "metadata": {
        "id": "u5pPmjlnhXOc",
        "colab_type": "text"
      },
      "source": [
        "### Now you going to start coding to develop the logistic regression model that seperates this data.  In other words, identify the boundary curve "
      ]
    },
    {
      "cell_type": "markdown",
      "metadata": {
        "id": "igWlpslZhXOd",
        "colab_type": "text"
      },
      "source": [
        "#### <font color='blue'> Exercise #1: </font> Complete the code for sigmoid function"
      ]
    },
    {
      "cell_type": "code",
      "metadata": {
        "id": "HKauxKdyhXOe",
        "colab_type": "code",
        "colab": {}
      },
      "source": [
        "#The function is the basic sigmoid function:  You can compelete in a single line of code\n",
        "def sigmoid(scores):\n",
        "    '''This function calculates the sigmoid of the input vector \"scores\"\n",
        "    and returns the vector \"logits\" '''\n",
        "    \n",
        "    #### insert your code here ~ one line\n",
        "    logits = 1/(1+np.exp(-scores))\n",
        "    scores = None\n",
        "    \n",
        "    return logits\n",
        "    ######"
      ],
      "execution_count": 0,
      "outputs": []
    },
    {
      "cell_type": "markdown",
      "metadata": {
        "id": "477FSMlzhXOh",
        "colab_type": "text"
      },
      "source": [
        "#### <font color='blue'> Exercise #2: </font> The cost function for logistic regression"
      ]
    },
    {
      "cell_type": "code",
      "metadata": {
        "id": "TWX3Sft7hXOi",
        "colab_type": "code",
        "colab": {}
      },
      "source": [
        "##Now you will have to complete the code for costFunction: 3 -4 lines of code\n",
        "def costFunction(features,labels,weights):\n",
        "    '''This function calculates the cost'''\n",
        "    m = len(features)\n",
        "    ##### insert your code here ~ two to three lines: use cost function for logistic regression#####\n",
        "    predictions = sigmoid(np.dot(features, weights))\n",
        "    loss_y_hat = np.sum(labels * np.log(predictions) + (1 - labels) * (np.log(1 - predictions)))\n",
        "    \n",
        "    ############\n",
        "    cost = (-loss_y_hat)/m\n",
        "    return cost"
      ],
      "execution_count": 0,
      "outputs": []
    },
    {
      "cell_type": "markdown",
      "metadata": {
        "id": "Zeyyvdr_hXOk",
        "colab_type": "text"
      },
      "source": [
        "#### <font color='blue'> Exercise #3 </font> Complete the code for gradient descent for logistic regression"
      ]
    },
    {
      "cell_type": "code",
      "metadata": {
        "id": "mwb6VnjvhXOl",
        "colab_type": "code",
        "colab": {}
      },
      "source": [
        "#This is the most interesting part of the assignment:  The gradient descent\n",
        "# to calculate the optimal parameters\n",
        "\n",
        "def log_reg(features, labels, num_steps, learning_rate):\n",
        "    \n",
        "    '''This function uses the sigmoid and costFunction and\n",
        "    implement gradient descent and calculate the costs at every\n",
        "    10,000 steps'''\n",
        "        \n",
        "    weights = np.zeros(features.shape[1])\n",
        "    m = features.shape[0]\n",
        "    \n",
        "    for step in range(num_steps):\n",
        "        scores = np.dot(features, weights)\n",
        "        predictions = sigmoid(scores)\n",
        "\n",
        "        # Update weights with gradient\n",
        "        ####### insert your code here ~ two to three lines #########\n",
        "        \n",
        "        loss = predictions - labels.ravel()\n",
        "        gradient = features.T.dot(loss)/m\n",
        "        weights = weights - learning_rate * gradient\n",
        "        \n",
        "        #######\n",
        "        # Print log-likelihood every so often\n",
        "        if step % 10000 == 0:\n",
        "            print(costFunction(features,labels,weights))\n",
        "        \n",
        "    return weights"
      ],
      "execution_count": 0,
      "outputs": []
    },
    {
      "cell_type": "markdown",
      "metadata": {
        "id": "8BVvvEqnhXOo",
        "colab_type": "text"
      },
      "source": [
        "#### Scaling is important to keep the iterative process in check"
      ]
    },
    {
      "cell_type": "code",
      "metadata": {
        "id": "TEG6fA6nhXOo",
        "colab_type": "code",
        "colab": {}
      },
      "source": [
        "from sklearn.preprocessing import MinMaxScaler  #we may need this if the square is larger"
      ],
      "execution_count": 0,
      "outputs": []
    },
    {
      "cell_type": "code",
      "metadata": {
        "id": "NeOQMHr_hXOs",
        "colab_type": "code",
        "colab": {}
      },
      "source": [
        "x_scaler = MinMaxScaler()\n",
        "X_scaled = x_scaler.fit_transform(X)"
      ],
      "execution_count": 0,
      "outputs": []
    },
    {
      "cell_type": "markdown",
      "metadata": {
        "id": "iFcYsz70hXOv",
        "colab_type": "text"
      },
      "source": [
        "#### Call up the log_reg function that does gradient descent on the cost function, to render optimal values of $\\hat\\Theta$"
      ]
    },
    {
      "cell_type": "code",
      "metadata": {
        "id": "qYlyvdvNhXOw",
        "colab_type": "code",
        "colab": {
          "base_uri": "https://localhost:8080/",
          "height": 68
        },
        "outputId": "12ad4c63-6e78-4b81-8134-b6fc396f0791"
      },
      "source": [
        "##Let us now use our function to come up with the optimal parameters\n",
        "Theta_hat = log_reg(X, labels,num_steps = 30000, learning_rate = 0.01)"
      ],
      "execution_count": 22,
      "outputs": [
        {
          "output_type": "stream",
          "text": [
            "0.6493843526865103\n",
            "0.07035753012527438\n",
            "0.05411669421546796\n"
          ],
          "name": "stdout"
        }
      ]
    },
    {
      "cell_type": "markdown",
      "metadata": {
        "id": "c1847DxshXO0",
        "colab_type": "text"
      },
      "source": [
        "#### You would see numbers like these:\n",
        "\n",
        "0.649746365538\n",
        "0.0713032927782\n",
        "0.0549840373037"
      ]
    },
    {
      "cell_type": "code",
      "metadata": {
        "id": "8wlWF3rDhXO1",
        "colab_type": "code",
        "outputId": "14af8d97-d140-4baa-ab0e-d9b995e1765e",
        "colab": {
          "base_uri": "https://localhost:8080/",
          "height": 51
        }
      },
      "source": [
        "## Take a look at the parameter set\n",
        "Theta_hat"
      ],
      "execution_count": 23,
      "outputs": [
        {
          "output_type": "execute_result",
          "data": {
            "text/plain": [
              "array([ 2.80780773, -0.01209348,  0.01057021, -3.06387661, -3.04460327,\n",
              "        0.0072521 ])"
            ]
          },
          "metadata": {
            "tags": []
          },
          "execution_count": 23
        }
      ]
    },
    {
      "cell_type": "markdown",
      "metadata": {
        "id": "AC-Uyi6rhXO4",
        "colab_type": "text"
      },
      "source": [
        "#### You ought to see these or numbers proportional to these\n",
        "\n",
        "array([array([2.80780773, -0.01209348,  0.01057021, -3.06387661, -3.04460327, 0.0072521])])"
      ]
    },
    {
      "cell_type": "markdown",
      "metadata": {
        "id": "D2nf4q15hXO5",
        "colab_type": "text"
      },
      "source": [
        "#### Let us think about this: out of the all the coefficients of $\\theta_0, \\theta_1, \\theta_2, \\theta_3, \\theta_4,\\theta_5$ we know the nonzero labels correspond to the circle: $\\theta_0,\\theta_3,\\theta_4$ and our procedure finds basically those and eliminates $\\theta_1,\\theta_2, and \\theta_5$\n",
        "\n",
        "#### In fact the actual parameter set:  Theta = np.array([1,0,0,-1,-1,0]) that corresponds to:\n",
        "$$ 1 + 0x_1 + 0x_2 - x_1^2 - x_2^2 + 0x_1x_2$$"
      ]
    },
    {
      "cell_type": "code",
      "metadata": {
        "id": "EtTYJRmChXO6",
        "colab_type": "code",
        "colab": {}
      },
      "source": [
        "##Use our model parameters Theta_hat to predict the labels:  y_pred\n",
        "y_pred = np.dot(X,Theta_hat)"
      ],
      "execution_count": 0,
      "outputs": []
    },
    {
      "cell_type": "code",
      "metadata": {
        "id": "7VWuFf6MhXO-",
        "colab_type": "code",
        "outputId": "9c0ec496-56f3-4700-8741-db6b2bfab2cc",
        "colab": {
          "base_uri": "https://localhost:8080/",
          "height": 34
        }
      },
      "source": [
        "##Make sure we are getting the correct shape: an array size (5000,)\n",
        "y_pred.shape"
      ],
      "execution_count": 25,
      "outputs": [
        {
          "output_type": "execute_result",
          "data": {
            "text/plain": [
              "(50000,)"
            ]
          },
          "metadata": {
            "tags": []
          },
          "execution_count": 25
        }
      ]
    },
    {
      "cell_type": "code",
      "metadata": {
        "id": "3cijlXbFhXPC",
        "colab_type": "code",
        "colab": {}
      },
      "source": [
        "## Now turn all output values greater than 0.5 to one class and others to second\n",
        "y_hat = (y_pred >= 0.5).astype(int)"
      ],
      "execution_count": 0,
      "outputs": []
    },
    {
      "cell_type": "code",
      "metadata": {
        "id": "BMRNm2RWhXPG",
        "colab_type": "code",
        "outputId": "c42edae4-56a9-4478-837a-77af72006211",
        "colab": {
          "base_uri": "https://localhost:8080/",
          "height": 34
        }
      },
      "source": [
        "## Take a look:  array([0, 1, 1, ..., 1, 0, 1])?\n",
        "y_hat"
      ],
      "execution_count": 28,
      "outputs": [
        {
          "output_type": "execute_result",
          "data": {
            "text/plain": [
              "array([0, 0, 0, ..., 0, 0, 1])"
            ]
          },
          "metadata": {
            "tags": []
          },
          "execution_count": 28
        }
      ]
    },
    {
      "cell_type": "code",
      "metadata": {
        "id": "1tkVIrCphXPI",
        "colab_type": "code",
        "outputId": "d7aaa97e-bd82-44c4-9370-89bf345de21f",
        "colab": {
          "base_uri": "https://localhost:8080/",
          "height": 265
        }
      },
      "source": [
        "#Let us look at it another way\n",
        "plt.hist(y_hat)\n",
        "plt.show()\n"
      ],
      "execution_count": 29,
      "outputs": [
        {
          "output_type": "display_data",
          "data": {
            "image/png": "[encoded data removed]",
            "text/plain": [
              "<Figure size 432x288 with 1 Axes>"
            ]
          },
          "metadata": {
            "tags": []
          }
        }
      ]
    },
    {
      "cell_type": "code",
      "metadata": {
        "id": "lBZCRBXlhXPL",
        "colab_type": "code",
        "outputId": "322b9472-fc31-4285-fc82-b8ecadbea3d3",
        "colab": {
          "base_uri": "https://localhost:8080/",
          "height": 592
        }
      },
      "source": [
        "# Visualize the data what our classification did: If done correctly it out to look like the graph below:\n",
        "fig = plt.figure(figsize=(10,10))\n",
        "plt.scatter(X[:,1], X[:,2], c=y_hat, s=40, cmap=plt.cm.Spectral);"
      ],
      "execution_count": 30,
      "outputs": [
        {
          "output_type": "display_data",
          "data": {
            "image/png": "[encoded data removed]",
            "text/plain": [
              "<Figure size 720x720 with 1 Axes>"
            ]
          },
          "metadata": {
            "tags": []
          }
        }
      ]
    },
    {
      "cell_type": "code",
      "metadata": {
        "id": "v2VPUQ9ThXPR",
        "colab_type": "code",
        "outputId": "3eed46c2-ea97-4f10-afe3-8065f2f874b1",
        "colab": {
          "base_uri": "https://localhost:8080/",
          "height": 34
        }
      },
      "source": [
        "#Let us see how our modeling is doing\n",
        "sum(np.abs(y_hat-labels))/len(X)"
      ],
      "execution_count": 32,
      "outputs": [
        {
          "output_type": "execute_result",
          "data": {
            "text/plain": [
              "0.02108"
            ]
          },
          "metadata": {
            "tags": []
          },
          "execution_count": 32
        }
      ]
    },
    {
      "cell_type": "markdown",
      "metadata": {
        "id": "LeaI5LlXhXPW",
        "colab_type": "text"
      },
      "source": [
        "### You should see something like:\n",
        "\n",
        "0.0128"
      ]
    },
    {
      "cell_type": "markdown",
      "metadata": {
        "id": "jfIpnMfZhXPX",
        "colab_type": "text"
      },
      "source": [
        "#### Now let us explore this a bit further: A mixed term $x_1^3 + x_2^3$ added on for labels"
      ]
    },
    {
      "cell_type": "code",
      "metadata": {
        "id": "KCo3yRLBhXPY",
        "colab_type": "code",
        "colab": {}
      },
      "source": [
        "#y_3 = (X[:,2]*X[:,4]+X[:,1]*X[:,1]*X[:,1]) < 1\n",
        "y_3 = (X[:,1]*X[:,1]*X[:,1] + X[:,2]*X[:,2]*X[:,2]) < 1"
      ],
      "execution_count": 0,
      "outputs": []
    },
    {
      "cell_type": "code",
      "metadata": {
        "id": "nZlaJFvWhXPh",
        "colab_type": "code",
        "outputId": "ae5d93f2-2b1a-44a5-9cbe-ce0443e1a94d",
        "colab": {
          "base_uri": "https://localhost:8080/",
          "height": 51
        }
      },
      "source": [
        "X[:,1]"
      ],
      "execution_count": 34,
      "outputs": [
        {
          "output_type": "execute_result",
          "data": {
            "text/plain": [
              "array([-0.7527593 ,  1.3919636 , -2.063888  , ...,  2.0635185 ,\n",
              "        1.6755173 , -0.00331653], dtype=float32)"
            ]
          },
          "metadata": {
            "tags": []
          },
          "execution_count": 34
        }
      ]
    },
    {
      "cell_type": "code",
      "metadata": {
        "id": "kdPv_6kEhXPm",
        "colab_type": "code",
        "colab": {}
      },
      "source": [
        "#Again we turn the labels to 0/1\n",
        "labels_3 = y_3*1"
      ],
      "execution_count": 0,
      "outputs": []
    },
    {
      "cell_type": "code",
      "metadata": {
        "id": "HSZwpvYjhXPq",
        "colab_type": "code",
        "outputId": "41cda384-09a8-4b02-9498-9787e34f2a5d",
        "colab": {
          "base_uri": "https://localhost:8080/",
          "height": 483
        }
      },
      "source": [
        "# Visualize the data what is labled\n",
        "fig = plt.figure(figsize=(8,8))\n",
        "plt.scatter(X[:,1], X[:,2], c=labels_3, s=40, cmap=plt.cm.Spectral);"
      ],
      "execution_count": 36,
      "outputs": [
        {
          "output_type": "display_data",
          "data": {
            "image/png": "[encoded data removed]",
            "text/plain": [
              "<Figure size 576x576 with 1 Axes>"
            ]
          },
          "metadata": {
            "tags": []
          }
        }
      ]
    },
    {
      "cell_type": "markdown",
      "metadata": {
        "id": "6IEhPRmOhXP2",
        "colab_type": "text"
      },
      "source": [
        "#### Now we will use the sklearn package to effciently model the data, but use the original X"
      ]
    },
    {
      "cell_type": "code",
      "metadata": {
        "id": "gf3u-L4dhXP3",
        "colab_type": "code",
        "colab": {}
      },
      "source": [
        "#Now we will use the sklearn package to effciently model the data, \n",
        "# but use the original X\n",
        "from sklearn.linear_model import LogisticRegression\n",
        "log_reg = LogisticRegression(random_state=42)\n",
        "model = log_reg.fit(X, labels_3)"
      ],
      "execution_count": 0,
      "outputs": []
    },
    {
      "cell_type": "code",
      "metadata": {
        "id": "TubJi6RwhXP5",
        "colab_type": "code",
        "colab": {}
      },
      "source": [
        "#Get the prediction from the model\n",
        "y3_hat = model.predict(X)"
      ],
      "execution_count": 0,
      "outputs": []
    },
    {
      "cell_type": "code",
      "metadata": {
        "id": "QKxLEpmohXP7",
        "colab_type": "code",
        "colab": {}
      },
      "source": [
        "#Turn the labels from boolean to binary\n",
        "y3_hat = y3_hat*1"
      ],
      "execution_count": 0,
      "outputs": []
    },
    {
      "cell_type": "markdown",
      "metadata": {
        "id": "dFOK5gL7hXP-",
        "colab_type": "text"
      },
      "source": [
        "#### Your graph should like like the following:"
      ]
    },
    {
      "cell_type": "code",
      "metadata": {
        "id": "VZpJdomAhXP_",
        "colab_type": "code",
        "outputId": "01ba5493-2488-4f5b-d349-ae4520ce3a81",
        "colab": {
          "base_uri": "https://localhost:8080/",
          "height": 336
        }
      },
      "source": [
        "# Now let us take a look how the model is doing:\n",
        "fig,axes = plt.subplots(1,2, figsize=(10,5), sharey = True)\n",
        "# Visualize the data what is originally labled:\n",
        "axes[0].scatter(X[:,1], X[:,2], c=labels_3, s=40, cmap=plt.cm.Spectral);\n",
        "axes[0].set_title('Original Dataset')\n",
        "# Now plot what the model classified:\n",
        "axes[1].scatter(X[:,1], X[:,2], c=y3_hat, s=40, cmap=plt.cm.Spectral);\n",
        "axes[1].set_title('Classified by Model')\n",
        "plt.show()"
      ],
      "execution_count": 40,
      "outputs": [
        {
          "output_type": "display_data",
          "data": {
            "image/png": "[encoded data removed]",
            "text/plain": [
              "<Figure size 720x360 with 2 Axes>"
            ]
          },
          "metadata": {
            "tags": []
          }
        }
      ]
    },
    {
      "cell_type": "markdown",
      "metadata": {
        "id": "kFoTVneJhXQD",
        "colab_type": "text"
      },
      "source": [
        "#### Obviously our prediction is pretty poor!  It is becuase the terms we have allowed on goes only up to quadratics.  We need to include cubics."
      ]
    },
    {
      "cell_type": "code",
      "metadata": {
        "id": "nnP3JTkbhXQE",
        "colab_type": "code",
        "outputId": "eab51923-fd1d-45d9-9c0d-e6d346d85200",
        "colab": {
          "base_uri": "https://localhost:8080/",
          "height": 34
        }
      },
      "source": [
        "#Let us see how our modeling is doing\n",
        "sum(np.abs(y3_hat-labels_3))/len(y3_hat)"
      ],
      "execution_count": 41,
      "outputs": [
        {
          "output_type": "execute_result",
          "data": {
            "text/plain": [
              "0.0433"
            ]
          },
          "metadata": {
            "tags": []
          },
          "execution_count": 41
        }
      ]
    },
    {
      "cell_type": "markdown",
      "metadata": {
        "id": "WNpjWzIYhXQH",
        "colab_type": "text"
      },
      "source": [
        "#### You ought to see an accuray of 0.0512.  Not bad!  However the picture is not quite matching.  Can we do better?"
      ]
    },
    {
      "cell_type": "markdown",
      "metadata": {
        "id": "WSis0ncEhXQI",
        "colab_type": "text"
      },
      "source": [
        "#### <font color='blue'> Exercise #4:  </font> Now you add all terms up to and including 3rd degree terms such as $1, x_1, x_2, x_1^2, x_2^2, x_1x_2, x_1^3, x_2^3, x_1^2x_2, x_1x_2^2$  in to the feature list so our model is better"
      ]
    },
    {
      "cell_type": "code",
      "metadata": {
        "id": "wi2KqvpPhXQI",
        "colab_type": "code",
        "colab": {}
      },
      "source": [
        "#####Construct the feature vector set.  Remember to include all the terms\n",
        "##### including mixed terms that goes up to and including 3rd degree\n",
        "\n",
        "####### insert your code here ~ one-two line #########\n",
        "\n",
        "features_3 = np.vstack((np.ones(len(X_data)), X_data[:,0], X_data[:,1], X_data[:,0]*X_data[:,0], \n",
        "                      X_data[:,1]*X_data[:,1],  X_data[:,0]*X_data[:,1], \n",
        "                        X_data[:,0]*X_data[:,0]*X_data[:,0] + X_data[:,1]*X_data[:,1]*X_data[:,1])).astype(np.float32)\n",
        "\n",
        "######"
      ],
      "execution_count": 0,
      "outputs": []
    },
    {
      "cell_type": "code",
      "metadata": {
        "id": "3LBtvhX6hXQN",
        "colab_type": "code",
        "colab": {}
      },
      "source": [
        "X3 = features_3.T.copy()"
      ],
      "execution_count": 0,
      "outputs": []
    },
    {
      "cell_type": "markdown",
      "metadata": {
        "id": "W1v2OainhXQQ",
        "colab_type": "text"
      },
      "source": [
        "#### Now we will use the optimized sklearn package (instead of our implementation) to model the data, but use the X3 involving at most cubics"
      ]
    },
    {
      "cell_type": "code",
      "metadata": {
        "id": "hfG8s3kahXQQ",
        "colab_type": "code",
        "colab": {}
      },
      "source": [
        "from sklearn.linear_model import LogisticRegression\n",
        "log_reg = LogisticRegression(random_state=42)\n",
        "model = log_reg.fit(X3, labels_3)"
      ],
      "execution_count": 0,
      "outputs": []
    },
    {
      "cell_type": "code",
      "metadata": {
        "id": "c3xPJZkdhXQT",
        "colab_type": "code",
        "outputId": "9c4c9910-2936-4865-8d64-460f2f431504",
        "colab": {
          "base_uri": "https://localhost:8080/",
          "height": 68
        }
      },
      "source": [
        "model.coef_"
      ],
      "execution_count": 45,
      "outputs": [
        {
          "output_type": "execute_result",
          "data": {
            "text/plain": [
              "array([[ 6.34282291e-04, -2.46839350e-01, -2.48077325e-01,\n",
              "        -1.43135528e-01, -2.54319571e-01, -2.53441995e-01,\n",
              "        -1.49840072e+01]])"
            ]
          },
          "metadata": {
            "tags": []
          },
          "execution_count": 45
        }
      ]
    },
    {
      "cell_type": "code",
      "metadata": {
        "id": "t0UkvuL1hXQW",
        "colab_type": "code",
        "colab": {}
      },
      "source": [
        "y3_hat = model.predict(X3)"
      ],
      "execution_count": 0,
      "outputs": []
    },
    {
      "cell_type": "code",
      "metadata": {
        "id": "rU-Xe7kQhXQa",
        "colab_type": "code",
        "colab": {}
      },
      "source": [
        "y3_hat = y3_hat*1"
      ],
      "execution_count": 0,
      "outputs": []
    },
    {
      "cell_type": "markdown",
      "metadata": {
        "id": "RzOSWpMbhXQc",
        "colab_type": "text"
      },
      "source": [
        "### Your graphs should look like the following"
      ]
    },
    {
      "cell_type": "code",
      "metadata": {
        "id": "y9UrE2-8hXQc",
        "colab_type": "code",
        "outputId": "29266997-a56f-4a02-a4ab-6ecd6cf9d65b",
        "colab": {
          "base_uri": "https://localhost:8080/",
          "height": 336
        }
      },
      "source": [
        "# Now let us take a look how the model is doing: If done correctly you ought to see the graphs below\n",
        "fig,axes = plt.subplots(1,2, figsize=(10,5), sharey = True)\n",
        "# Visualize the data what is originally labled:\n",
        "axes[0].scatter(X[:,1], X[:,2], c=labels_3, s=40, cmap=plt.cm.Spectral);\n",
        "axes[0].set_title('Original Dataset')\n",
        "# Now plot what the model classified:\n",
        "axes[1].scatter(X[:,1], X[:,2], c=y3_hat, s=40, cmap=plt.cm.Spectral);\n",
        "axes[1].set_title('Classified by Model')\n",
        "plt.show()"
      ],
      "execution_count": 48,
      "outputs": [
        {
          "output_type": "display_data",
          "data": {
            "image/png": "[encoded data removed]",
            "text/plain": [
              "<Figure size 720x360 with 2 Axes>"
            ]
          },
          "metadata": {
            "tags": []
          }
        }
      ]
    },
    {
      "cell_type": "markdown",
      "metadata": {
        "id": "x_SwL1j7hXQf",
        "colab_type": "text"
      },
      "source": [
        "### Pretty close!"
      ]
    },
    {
      "cell_type": "code",
      "metadata": {
        "id": "uEQSbfcIhXQf",
        "colab_type": "code",
        "outputId": "d19a1fd5-d3ad-4ee3-d3ec-c057f04927f9",
        "colab": {
          "base_uri": "https://localhost:8080/",
          "height": 34
        }
      },
      "source": [
        "#Let us see how our modeling is doing\n",
        "sum(np.abs(y3_hat-labels_3))/len(y3_hat)"
      ],
      "execution_count": 49,
      "outputs": [
        {
          "output_type": "execute_result",
          "data": {
            "text/plain": [
              "0.00038"
            ]
          },
          "metadata": {
            "tags": []
          },
          "execution_count": 49
        }
      ]
    },
    {
      "cell_type": "markdown",
      "metadata": {
        "id": "EwjG-CCNhXQh",
        "colab_type": "text"
      },
      "source": [
        "#### You ought to see the percent of misclassified point to be around\n",
        "0.0002\n",
        "\n",
        "#### Much better than previous one"
      ]
    },
    {
      "cell_type": "code",
      "metadata": {
        "id": "pT-VHHe3hXQi",
        "colab_type": "code",
        "outputId": "5629042a-81ae-4a40-a3df-d4db88548dda",
        "colab": {
          "base_uri": "https://localhost:8080/",
          "height": 68
        }
      },
      "source": [
        "model.coef_"
      ],
      "execution_count": 50,
      "outputs": [
        {
          "output_type": "execute_result",
          "data": {
            "text/plain": [
              "array([[ 6.34282291e-04, -2.46839350e-01, -2.48077325e-01,\n",
              "        -1.43135528e-01, -2.54319571e-01, -2.53441995e-01,\n",
              "        -1.49840072e+01]])"
            ]
          },
          "metadata": {
            "tags": []
          },
          "execution_count": 50
        }
      ]
    },
    {
      "cell_type": "markdown",
      "metadata": {
        "id": "JG63NetWhXQk",
        "colab_type": "text"
      },
      "source": [
        "#### Is this what you expected? Notice the coefficients that remains and the one that are depressed, i.e. close to 0"
      ]
    },
    {
      "cell_type": "markdown",
      "metadata": {
        "id": "UGY2uXRnhXQk",
        "colab_type": "text"
      },
      "source": [
        "#### Congratulations! This concludes our third assignment"
      ]
    }
  ]
}
