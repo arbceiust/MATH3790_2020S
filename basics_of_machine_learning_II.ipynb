{
  "nbformat": 4,
  "nbformat_minor": 0,
  "metadata": {
    "kernelspec": {
      "display_name": "Python 3",
      "language": "python",
      "name": "python3"
    },
    "language_info": {
      "codemirror_mode": {
        "name": "ipython",
        "version": 3
      },
      "file_extension": ".py",
      "mimetype": "text/x-python",
      "name": "python",
      "nbconvert_exporter": "python",
      "pygments_lexer": "ipython3",
      "version": "3.7.6"
    },
    "colab": {
      "name": "lec4 - basics of machine learning II.ipynb",
      "provenance": [],
      "include_colab_link": true
    }
  },
  "cells": [
    {
      "cell_type": "markdown",
      "metadata": {
        "id": "view-in-github",
        "colab_type": "text"
      },
      "source": [
        "<a href=\"https://colab.research.google.com/github/arbceiust/MATH3790_2020S/blob/master/basics_of_machine_learning_II.ipynb\" target=\"_parent\"><img src=\"https://colab.research.google.com/assets/colab-badge.svg\" alt=\"Open In Colab\"/></a>"
      ]
    },
    {
      "cell_type": "markdown",
      "metadata": {
        "id": "fbWeGv2KS9E1",
        "colab_type": "text"
      },
      "source": [
        "# This Work book explores:\n",
        "\n",
        "1. Various stages Exploring/Cleaning/Feature-Engineering/Input-Output preparation of processing data\n",
        "2. Basics of Gradient Descent\n",
        "3. Linear Regression Model\n",
        "4. Cost Function\n",
        "5. Gradient Descent\n",
        "6. Prediction"
      ]
    },
    {
      "cell_type": "code",
      "metadata": {
        "id": "SGcdkGRtS9E4",
        "colab_type": "code",
        "colab": {}
      },
      "source": [
        "import numpy as np\n",
        "import pandas as pd\n",
        "import matplotlib.pyplot as plt\n",
        "import seaborn as sns\n",
        "%matplotlib inline"
      ],
      "execution_count": 0,
      "outputs": []
    },
    {
      "cell_type": "markdown",
      "metadata": {
        "id": "cd9obK3gS9E7",
        "colab_type": "text"
      },
      "source": [
        "# Now we are going on to our first expedition into machine learning!  Trying to predict the sale prices of a home, knowing the sale prices of many others in the same area"
      ]
    },
    {
      "cell_type": "code",
      "metadata": {
        "id": "Oyu7LpCFS9E8",
        "colab_type": "code",
        "colab": {}
      },
      "source": [
        "#Download the data \"http://gauss.kean.edu/python_workshop/wdi_urbanpopulation.csv\"\n",
        "#Or load it from the disk\n",
        "#housing_df = pd.read_excel(\"bay_area_home_prices.xlsx\")"
      ],
      "execution_count": 0,
      "outputs": []
    },
    {
      "cell_type": "code",
      "metadata": {
        "id": "XF2r_8sQS9E_",
        "colab_type": "code",
        "colab": {}
      },
      "source": [
        "#import pickle\n",
        "#housing_df.to_pickle('bay_area_home_prices.pkl')"
      ],
      "execution_count": 0,
      "outputs": []
    },
    {
      "cell_type": "code",
      "metadata": {
        "id": "AMcve5D-S9FC",
        "colab_type": "code",
        "colab": {}
      },
      "source": [
        "import pickle\n",
        "#Drop the pesky \"Unnamed:0\" column while reading the data\n",
        "housing_df = pd.read_pickle('bay_area_home_prices.pkl').drop('Unnamed: 0',axis=1)"
      ],
      "execution_count": 0,
      "outputs": []
    },
    {
      "cell_type": "code",
      "metadata": {
        "id": "4gVa-m-JS9FE",
        "colab_type": "code",
        "colab": {},
        "outputId": "a9024d72-9210-449f-faf3-374cbd9b13fc"
      },
      "source": [
        "housing_df.head()"
      ],
      "execution_count": 0,
      "outputs": [
        {
          "output_type": "execute_result",
          "data": {
            "text/html": [
              "<div>\n",
              "<style scoped>\n",
              "    .dataframe tbody tr th:only-of-type {\n",
              "        vertical-align: middle;\n",
              "    }\n",
              "\n",
              "    .dataframe tbody tr th {\n",
              "        vertical-align: top;\n",
              "    }\n",
              "\n",
              "    .dataframe thead th {\n",
              "        text-align: right;\n",
              "    }\n",
              "</style>\n",
              "<table border=\"1\" class=\"dataframe\">\n",
              "  <thead>\n",
              "    <tr style=\"text-align: right;\">\n",
              "      <th></th>\n",
              "      <th>address</th>\n",
              "      <th>info</th>\n",
              "      <th>z_address</th>\n",
              "      <th>bathrooms</th>\n",
              "      <th>bedrooms</th>\n",
              "      <th>finishedsqft</th>\n",
              "      <th>lastsolddate</th>\n",
              "      <th>lastsoldprice</th>\n",
              "      <th>latitude</th>\n",
              "      <th>longitude</th>\n",
              "      <th>neighborhood</th>\n",
              "      <th>totalrooms</th>\n",
              "      <th>usecode</th>\n",
              "      <th>yearbuilt</th>\n",
              "      <th>zestimate</th>\n",
              "      <th>zindexvalue</th>\n",
              "      <th>zipcode</th>\n",
              "      <th>zpid</th>\n",
              "    </tr>\n",
              "  </thead>\n",
              "  <tbody>\n",
              "    <tr>\n",
              "      <th>0</th>\n",
              "      <td>Address: 1160 Mission Street #2007</td>\n",
              "      <td>San FranciscoSales price: 1300000Sales date: 0...</td>\n",
              "      <td>1160 Mission St UNIT 2007</td>\n",
              "      <td>2.0</td>\n",
              "      <td>2</td>\n",
              "      <td>1043</td>\n",
              "      <td>2016-02-17</td>\n",
              "      <td>1300000</td>\n",
              "      <td>37.778705</td>\n",
              "      <td>-122.412635</td>\n",
              "      <td>South of Market</td>\n",
              "      <td>4</td>\n",
              "      <td>Condominium</td>\n",
              "      <td>2007</td>\n",
              "      <td>1167508</td>\n",
              "      <td>975700</td>\n",
              "      <td>94103</td>\n",
              "      <td>83152781</td>\n",
              "    </tr>\n",
              "    <tr>\n",
              "      <th>1</th>\n",
              "      <td>Address: 260 King Street #475</td>\n",
              "      <td>San FranciscoSales price: 750000Sales date: 02...</td>\n",
              "      <td>260 King St UNIT 475</td>\n",
              "      <td>1.0</td>\n",
              "      <td>1</td>\n",
              "      <td>903</td>\n",
              "      <td>2016-02-17</td>\n",
              "      <td>750000</td>\n",
              "      <td>37.777641</td>\n",
              "      <td>-122.393417</td>\n",
              "      <td>South of Market</td>\n",
              "      <td>3</td>\n",
              "      <td>Condominium</td>\n",
              "      <td>2004</td>\n",
              "      <td>823719</td>\n",
              "      <td>975700</td>\n",
              "      <td>94107</td>\n",
              "      <td>69819817</td>\n",
              "    </tr>\n",
              "    <tr>\n",
              "      <th>2</th>\n",
              "      <td>Address: 560 Missouri Street #B</td>\n",
              "      <td>San FranciscoSales price: 1495000Sales date: 0...</td>\n",
              "      <td>560 Missouri St # B</td>\n",
              "      <td>4.0</td>\n",
              "      <td>3</td>\n",
              "      <td>1425</td>\n",
              "      <td>2016-02-17</td>\n",
              "      <td>1495000</td>\n",
              "      <td>37.759198</td>\n",
              "      <td>-122.396516</td>\n",
              "      <td>Potrero Hill</td>\n",
              "      <td>6</td>\n",
              "      <td>Condominium</td>\n",
              "      <td>2003</td>\n",
              "      <td>1708594</td>\n",
              "      <td>1277600</td>\n",
              "      <td>94107</td>\n",
              "      <td>64972847</td>\n",
              "    </tr>\n",
              "    <tr>\n",
              "      <th>3</th>\n",
              "      <td>Address: 350 Missouri Street</td>\n",
              "      <td>San FranciscoSales price: 2700000Sales date: 0...</td>\n",
              "      <td>350 Missouri St</td>\n",
              "      <td>3.0</td>\n",
              "      <td>3</td>\n",
              "      <td>2231</td>\n",
              "      <td>2016-02-17</td>\n",
              "      <td>2700000</td>\n",
              "      <td>37.761886</td>\n",
              "      <td>-122.396769</td>\n",
              "      <td>Potrero Hill</td>\n",
              "      <td>10</td>\n",
              "      <td>SingleFamily</td>\n",
              "      <td>1927</td>\n",
              "      <td>2411236</td>\n",
              "      <td>1277600</td>\n",
              "      <td>94107</td>\n",
              "      <td>15149489</td>\n",
              "    </tr>\n",
              "    <tr>\n",
              "      <th>4</th>\n",
              "      <td>Address: 3658 Folsom Street</td>\n",
              "      <td>San FranciscoSales price: 1530000Sales date: 0...</td>\n",
              "      <td>3658 Folsom St</td>\n",
              "      <td>3.0</td>\n",
              "      <td>3</td>\n",
              "      <td>1300</td>\n",
              "      <td>2016-02-17</td>\n",
              "      <td>1530000</td>\n",
              "      <td>37.740795</td>\n",
              "      <td>-122.413453</td>\n",
              "      <td>Bernal Heights</td>\n",
              "      <td>4</td>\n",
              "      <td>SingleFamily</td>\n",
              "      <td>1900</td>\n",
              "      <td>1918539</td>\n",
              "      <td>1248000</td>\n",
              "      <td>94110</td>\n",
              "      <td>15161978</td>\n",
              "    </tr>\n",
              "  </tbody>\n",
              "</table>\n",
              "</div>"
            ],
            "text/plain": [
              "                              address  \\\n",
              "0  Address: 1160 Mission Street #2007   \n",
              "1       Address: 260 King Street #475   \n",
              "2     Address: 560 Missouri Street #B   \n",
              "3        Address: 350 Missouri Street   \n",
              "4         Address: 3658 Folsom Street   \n",
              "\n",
              "                                                info  \\\n",
              "0  San FranciscoSales price: 1300000Sales date: 0...   \n",
              "1  San FranciscoSales price: 750000Sales date: 02...   \n",
              "2  San FranciscoSales price: 1495000Sales date: 0...   \n",
              "3  San FranciscoSales price: 2700000Sales date: 0...   \n",
              "4  San FranciscoSales price: 1530000Sales date: 0...   \n",
              "\n",
              "                   z_address  bathrooms  bedrooms  finishedsqft lastsolddate  \\\n",
              "0  1160 Mission St UNIT 2007        2.0         2          1043   2016-02-17   \n",
              "1       260 King St UNIT 475        1.0         1           903   2016-02-17   \n",
              "2        560 Missouri St # B        4.0         3          1425   2016-02-17   \n",
              "3            350 Missouri St        3.0         3          2231   2016-02-17   \n",
              "4             3658 Folsom St        3.0         3          1300   2016-02-17   \n",
              "\n",
              "   lastsoldprice   latitude   longitude     neighborhood  totalrooms  \\\n",
              "0        1300000  37.778705 -122.412635  South of Market           4   \n",
              "1         750000  37.777641 -122.393417  South of Market           3   \n",
              "2        1495000  37.759198 -122.396516     Potrero Hill           6   \n",
              "3        2700000  37.761886 -122.396769     Potrero Hill          10   \n",
              "4        1530000  37.740795 -122.413453   Bernal Heights           4   \n",
              "\n",
              "        usecode  yearbuilt  zestimate  zindexvalue  zipcode      zpid  \n",
              "0   Condominium       2007    1167508       975700    94103  83152781  \n",
              "1   Condominium       2004     823719       975700    94107  69819817  \n",
              "2   Condominium       2003    1708594      1277600    94107  64972847  \n",
              "3  SingleFamily       1927    2411236      1277600    94107  15149489  \n",
              "4  SingleFamily       1900    1918539      1248000    94110  15161978  "
            ]
          },
          "metadata": {
            "tags": []
          },
          "execution_count": 7
        }
      ]
    },
    {
      "cell_type": "markdown",
      "metadata": {
        "id": "uMEa5YRpS9FH",
        "colab_type": "text"
      },
      "source": [
        "## Step 1: Explore the data"
      ]
    },
    {
      "cell_type": "code",
      "metadata": {
        "id": "JXOBHR-BS9FJ",
        "colab_type": "code",
        "colab": {},
        "outputId": "9ffedaee-cc06-424b-e587-7343143056af"
      },
      "source": [
        "#Column names\n",
        "housing_df.columns"
      ],
      "execution_count": 0,
      "outputs": [
        {
          "output_type": "execute_result",
          "data": {
            "text/plain": [
              "Index(['address', 'info', 'z_address', 'bathrooms', 'bedrooms', 'finishedsqft',\n",
              "       'lastsolddate', 'lastsoldprice', 'latitude', 'longitude',\n",
              "       'neighborhood', 'totalrooms', 'usecode', 'yearbuilt', 'zestimate',\n",
              "       'zindexvalue', 'zipcode', 'zpid'],\n",
              "      dtype='object')"
            ]
          },
          "metadata": {
            "tags": []
          },
          "execution_count": 8
        }
      ]
    },
    {
      "cell_type": "code",
      "metadata": {
        "id": "97OSa5CVS9FL",
        "colab_type": "code",
        "colab": {},
        "outputId": "9c81a009-00d9-4e63-c721-d6ecab4354e2"
      },
      "source": [
        "housing_df.info()"
      ],
      "execution_count": 0,
      "outputs": [
        {
          "output_type": "stream",
          "text": [
            "<class 'pandas.core.frame.DataFrame'>\n",
            "RangeIndex: 11330 entries, 0 to 11329\n",
            "Data columns (total 18 columns):\n",
            " #   Column         Non-Null Count  Dtype         \n",
            "---  ------         --------------  -----         \n",
            " 0   address        11330 non-null  object        \n",
            " 1   info           11330 non-null  object        \n",
            " 2   z_address      11330 non-null  object        \n",
            " 3   bathrooms      11330 non-null  float64       \n",
            " 4   bedrooms       11330 non-null  int64         \n",
            " 5   finishedsqft   11330 non-null  int64         \n",
            " 6   lastsolddate   11330 non-null  datetime64[ns]\n",
            " 7   lastsoldprice  11330 non-null  int64         \n",
            " 8   latitude       11330 non-null  float64       \n",
            " 9   longitude      11330 non-null  float64       \n",
            " 10  neighborhood   11330 non-null  object        \n",
            " 11  totalrooms     11330 non-null  int64         \n",
            " 12  usecode        11330 non-null  object        \n",
            " 13  yearbuilt      11330 non-null  int64         \n",
            " 14  zestimate      11330 non-null  int64         \n",
            " 15  zindexvalue    11330 non-null  int64         \n",
            " 16  zipcode        11330 non-null  int64         \n",
            " 17  zpid           11330 non-null  int64         \n",
            "dtypes: datetime64[ns](1), float64(3), int64(9), object(5)\n",
            "memory usage: 1.6+ MB\n"
          ],
          "name": "stdout"
        }
      ]
    },
    {
      "cell_type": "code",
      "metadata": {
        "id": "vIOzO8JoS9FO",
        "colab_type": "code",
        "colab": {},
        "outputId": "2bd901ea-c979-4593-ceb1-237e4beb78e4"
      },
      "source": [
        "housing_df.describe()"
      ],
      "execution_count": 0,
      "outputs": [
        {
          "output_type": "execute_result",
          "data": {
            "text/html": [
              "<div>\n",
              "<style scoped>\n",
              "    .dataframe tbody tr th:only-of-type {\n",
              "        vertical-align: middle;\n",
              "    }\n",
              "\n",
              "    .dataframe tbody tr th {\n",
              "        vertical-align: top;\n",
              "    }\n",
              "\n",
              "    .dataframe thead th {\n",
              "        text-align: right;\n",
              "    }\n",
              "</style>\n",
              "<table border=\"1\" class=\"dataframe\">\n",
              "  <thead>\n",
              "    <tr style=\"text-align: right;\">\n",
              "      <th></th>\n",
              "      <th>bathrooms</th>\n",
              "      <th>bedrooms</th>\n",
              "      <th>finishedsqft</th>\n",
              "      <th>lastsoldprice</th>\n",
              "      <th>latitude</th>\n",
              "      <th>longitude</th>\n",
              "      <th>totalrooms</th>\n",
              "      <th>yearbuilt</th>\n",
              "      <th>zestimate</th>\n",
              "      <th>zindexvalue</th>\n",
              "      <th>zipcode</th>\n",
              "      <th>zpid</th>\n",
              "    </tr>\n",
              "  </thead>\n",
              "  <tbody>\n",
              "    <tr>\n",
              "      <th>count</th>\n",
              "      <td>11330.000000</td>\n",
              "      <td>11330.000000</td>\n",
              "      <td>11330.000000</td>\n",
              "      <td>1.133000e+04</td>\n",
              "      <td>11330.000000</td>\n",
              "      <td>11330.000000</td>\n",
              "      <td>11330.000000</td>\n",
              "      <td>11330.000000</td>\n",
              "      <td>1.133000e+04</td>\n",
              "      <td>1.133000e+04</td>\n",
              "      <td>11330.000000</td>\n",
              "      <td>1.133000e+04</td>\n",
              "    </tr>\n",
              "    <tr>\n",
              "      <th>mean</th>\n",
              "      <td>1.980229</td>\n",
              "      <td>2.614475</td>\n",
              "      <td>1585.420918</td>\n",
              "      <td>1.263928e+06</td>\n",
              "      <td>37.759711</td>\n",
              "      <td>-122.436518</td>\n",
              "      <td>6.111562</td>\n",
              "      <td>1948.498147</td>\n",
              "      <td>1.565695e+06</td>\n",
              "      <td>1.320205e+06</td>\n",
              "      <td>94116.912004</td>\n",
              "      <td>3.689973e+07</td>\n",
              "    </tr>\n",
              "    <tr>\n",
              "      <th>std</th>\n",
              "      <td>1.047358</td>\n",
              "      <td>1.299457</td>\n",
              "      <td>921.978245</td>\n",
              "      <td>1.042079e+06</td>\n",
              "      <td>0.025578</td>\n",
              "      <td>0.030743</td>\n",
              "      <td>12.125819</td>\n",
              "      <td>37.911196</td>\n",
              "      <td>1.229417e+06</td>\n",
              "      <td>5.848170e+05</td>\n",
              "      <td>9.400877</td>\n",
              "      <td>7.800741e+07</td>\n",
              "    </tr>\n",
              "    <tr>\n",
              "      <th>min</th>\n",
              "      <td>0.500000</td>\n",
              "      <td>0.000000</td>\n",
              "      <td>1.000000</td>\n",
              "      <td>5.350000e+02</td>\n",
              "      <td>37.708170</td>\n",
              "      <td>-122.510726</td>\n",
              "      <td>1.000000</td>\n",
              "      <td>1860.000000</td>\n",
              "      <td>4.323850e+05</td>\n",
              "      <td>6.881000e+05</td>\n",
              "      <td>94102.000000</td>\n",
              "      <td>1.506329e+07</td>\n",
              "    </tr>\n",
              "    <tr>\n",
              "      <th>25%</th>\n",
              "      <td>1.000000</td>\n",
              "      <td>2.000000</td>\n",
              "      <td>1019.000000</td>\n",
              "      <td>7.292500e+05</td>\n",
              "      <td>37.739286</td>\n",
              "      <td>-122.455157</td>\n",
              "      <td>4.000000</td>\n",
              "      <td>1916.000000</td>\n",
              "      <td>9.052375e+05</td>\n",
              "      <td>9.829000e+05</td>\n",
              "      <td>94110.000000</td>\n",
              "      <td>1.510847e+07</td>\n",
              "    </tr>\n",
              "    <tr>\n",
              "      <th>50%</th>\n",
              "      <td>2.000000</td>\n",
              "      <td>2.000000</td>\n",
              "      <td>1362.000000</td>\n",
              "      <td>9.900000e+05</td>\n",
              "      <td>37.760513</td>\n",
              "      <td>-122.432510</td>\n",
              "      <td>5.000000</td>\n",
              "      <td>1940.000000</td>\n",
              "      <td>1.230758e+06</td>\n",
              "      <td>1.211900e+06</td>\n",
              "      <td>94115.000000</td>\n",
              "      <td>1.515697e+07</td>\n",
              "    </tr>\n",
              "    <tr>\n",
              "      <th>75%</th>\n",
              "      <td>2.000000</td>\n",
              "      <td>3.000000</td>\n",
              "      <td>1876.000000</td>\n",
              "      <td>1.450000e+06</td>\n",
              "      <td>37.781386</td>\n",
              "      <td>-122.413359</td>\n",
              "      <td>7.000000</td>\n",
              "      <td>1986.000000</td>\n",
              "      <td>1.731170e+06</td>\n",
              "      <td>1.480400e+06</td>\n",
              "      <td>94123.000000</td>\n",
              "      <td>5.970040e+07</td>\n",
              "    </tr>\n",
              "    <tr>\n",
              "      <th>max</th>\n",
              "      <td>14.000000</td>\n",
              "      <td>20.000000</td>\n",
              "      <td>27275.000000</td>\n",
              "      <td>2.388900e+07</td>\n",
              "      <td>37.806083</td>\n",
              "      <td>-122.381201</td>\n",
              "      <td>1264.000000</td>\n",
              "      <td>2016.000000</td>\n",
              "      <td>1.553325e+07</td>\n",
              "      <td>5.333500e+06</td>\n",
              "      <td>94158.000000</td>\n",
              "      <td>2.146999e+09</td>\n",
              "    </tr>\n",
              "  </tbody>\n",
              "</table>\n",
              "</div>"
            ],
            "text/plain": [
              "          bathrooms      bedrooms  finishedsqft  lastsoldprice      latitude  \\\n",
              "count  11330.000000  11330.000000  11330.000000   1.133000e+04  11330.000000   \n",
              "mean       1.980229      2.614475   1585.420918   1.263928e+06     37.759711   \n",
              "std        1.047358      1.299457    921.978245   1.042079e+06      0.025578   \n",
              "min        0.500000      0.000000      1.000000   5.350000e+02     37.708170   \n",
              "25%        1.000000      2.000000   1019.000000   7.292500e+05     37.739286   \n",
              "50%        2.000000      2.000000   1362.000000   9.900000e+05     37.760513   \n",
              "75%        2.000000      3.000000   1876.000000   1.450000e+06     37.781386   \n",
              "max       14.000000     20.000000  27275.000000   2.388900e+07     37.806083   \n",
              "\n",
              "          longitude    totalrooms     yearbuilt     zestimate   zindexvalue  \\\n",
              "count  11330.000000  11330.000000  11330.000000  1.133000e+04  1.133000e+04   \n",
              "mean    -122.436518      6.111562   1948.498147  1.565695e+06  1.320205e+06   \n",
              "std        0.030743     12.125819     37.911196  1.229417e+06  5.848170e+05   \n",
              "min     -122.510726      1.000000   1860.000000  4.323850e+05  6.881000e+05   \n",
              "25%     -122.455157      4.000000   1916.000000  9.052375e+05  9.829000e+05   \n",
              "50%     -122.432510      5.000000   1940.000000  1.230758e+06  1.211900e+06   \n",
              "75%     -122.413359      7.000000   1986.000000  1.731170e+06  1.480400e+06   \n",
              "max     -122.381201   1264.000000   2016.000000  1.553325e+07  5.333500e+06   \n",
              "\n",
              "            zipcode          zpid  \n",
              "count  11330.000000  1.133000e+04  \n",
              "mean   94116.912004  3.689973e+07  \n",
              "std        9.400877  7.800741e+07  \n",
              "min    94102.000000  1.506329e+07  \n",
              "25%    94110.000000  1.510847e+07  \n",
              "50%    94115.000000  1.515697e+07  \n",
              "75%    94123.000000  5.970040e+07  \n",
              "max    94158.000000  2.146999e+09  "
            ]
          },
          "metadata": {
            "tags": []
          },
          "execution_count": 10
        }
      ]
    },
    {
      "cell_type": "code",
      "metadata": {
        "id": "SlaLslKaS9FT",
        "colab_type": "code",
        "colab": {},
        "outputId": "be5b3b81-9879-46f5-993a-07af606711db"
      },
      "source": [
        "#Make a list of column names\n",
        "housing_df.vars = list(housing_df.columns)"
      ],
      "execution_count": 0,
      "outputs": [
        {
          "output_type": "stream",
          "text": [
            "C:\\ProgramData\\Anaconda3\\lib\\site-packages\\ipykernel_launcher.py:2: UserWarning: Pandas doesn't allow columns to be created via a new attribute name - see https://pandas.pydata.org/pandas-docs/stable/indexing.html#attribute-access\n",
            "  \n"
          ],
          "name": "stderr"
        }
      ]
    },
    {
      "cell_type": "code",
      "metadata": {
        "id": "AU_rmv_ZS9FW",
        "colab_type": "code",
        "colab": {},
        "outputId": "ad64b5a2-37af-4252-b76e-ada8613e1699"
      },
      "source": [
        "housing_df.vars"
      ],
      "execution_count": 0,
      "outputs": [
        {
          "output_type": "execute_result",
          "data": {
            "text/plain": [
              "['address',\n",
              " 'info',\n",
              " 'z_address',\n",
              " 'bathrooms',\n",
              " 'bedrooms',\n",
              " 'finishedsqft',\n",
              " 'lastsolddate',\n",
              " 'lastsoldprice',\n",
              " 'latitude',\n",
              " 'longitude',\n",
              " 'neighborhood',\n",
              " 'totalrooms',\n",
              " 'usecode',\n",
              " 'yearbuilt',\n",
              " 'zestimate',\n",
              " 'zindexvalue',\n",
              " 'zipcode',\n",
              " 'zpid']"
            ]
          },
          "metadata": {
            "tags": []
          },
          "execution_count": 12
        }
      ]
    },
    {
      "cell_type": "code",
      "metadata": {
        "id": "Xvj2D3VWS9FZ",
        "colab_type": "code",
        "colab": {}
      },
      "source": [
        "#For now pick a few columns that seems numerical: there are several ways to do this\n",
        "housing_df1 = housing_df[['bedrooms','finishedsqft','totalrooms','lastsoldprice','latitude','longitude','yearbuilt']]\n",
        "#housing_df1 = housing_df.loc[:,['bedrooms','finishedsqft','totalrooms', 'lastsoldprice','latitude','longitude']]\n",
        "#housing_df1 = housing_df[housing_df.columns[[4,5, 6,8,9]]]"
      ],
      "execution_count": 0,
      "outputs": []
    },
    {
      "cell_type": "code",
      "metadata": {
        "id": "SshIySm6S9Fb",
        "colab_type": "code",
        "colab": {},
        "outputId": "9ab37ae4-d006-4783-accf-5600d804a306"
      },
      "source": [
        "housing_df1.head()"
      ],
      "execution_count": 0,
      "outputs": [
        {
          "output_type": "execute_result",
          "data": {
            "text/html": [
              "<div>\n",
              "<style scoped>\n",
              "    .dataframe tbody tr th:only-of-type {\n",
              "        vertical-align: middle;\n",
              "    }\n",
              "\n",
              "    .dataframe tbody tr th {\n",
              "        vertical-align: top;\n",
              "    }\n",
              "\n",
              "    .dataframe thead th {\n",
              "        text-align: right;\n",
              "    }\n",
              "</style>\n",
              "<table border=\"1\" class=\"dataframe\">\n",
              "  <thead>\n",
              "    <tr style=\"text-align: right;\">\n",
              "      <th></th>\n",
              "      <th>bedrooms</th>\n",
              "      <th>finishedsqft</th>\n",
              "      <th>totalrooms</th>\n",
              "      <th>lastsoldprice</th>\n",
              "      <th>latitude</th>\n",
              "      <th>longitude</th>\n",
              "      <th>yearbuilt</th>\n",
              "    </tr>\n",
              "  </thead>\n",
              "  <tbody>\n",
              "    <tr>\n",
              "      <th>0</th>\n",
              "      <td>2</td>\n",
              "      <td>1043</td>\n",
              "      <td>4</td>\n",
              "      <td>1300000</td>\n",
              "      <td>37.778705</td>\n",
              "      <td>-122.412635</td>\n",
              "      <td>2007</td>\n",
              "    </tr>\n",
              "    <tr>\n",
              "      <th>1</th>\n",
              "      <td>1</td>\n",
              "      <td>903</td>\n",
              "      <td>3</td>\n",
              "      <td>750000</td>\n",
              "      <td>37.777641</td>\n",
              "      <td>-122.393417</td>\n",
              "      <td>2004</td>\n",
              "    </tr>\n",
              "    <tr>\n",
              "      <th>2</th>\n",
              "      <td>3</td>\n",
              "      <td>1425</td>\n",
              "      <td>6</td>\n",
              "      <td>1495000</td>\n",
              "      <td>37.759198</td>\n",
              "      <td>-122.396516</td>\n",
              "      <td>2003</td>\n",
              "    </tr>\n",
              "    <tr>\n",
              "      <th>3</th>\n",
              "      <td>3</td>\n",
              "      <td>2231</td>\n",
              "      <td>10</td>\n",
              "      <td>2700000</td>\n",
              "      <td>37.761886</td>\n",
              "      <td>-122.396769</td>\n",
              "      <td>1927</td>\n",
              "    </tr>\n",
              "    <tr>\n",
              "      <th>4</th>\n",
              "      <td>3</td>\n",
              "      <td>1300</td>\n",
              "      <td>4</td>\n",
              "      <td>1530000</td>\n",
              "      <td>37.740795</td>\n",
              "      <td>-122.413453</td>\n",
              "      <td>1900</td>\n",
              "    </tr>\n",
              "  </tbody>\n",
              "</table>\n",
              "</div>"
            ],
            "text/plain": [
              "   bedrooms  finishedsqft  totalrooms  lastsoldprice   latitude   longitude  \\\n",
              "0         2          1043           4        1300000  37.778705 -122.412635   \n",
              "1         1           903           3         750000  37.777641 -122.393417   \n",
              "2         3          1425           6        1495000  37.759198 -122.396516   \n",
              "3         3          2231          10        2700000  37.761886 -122.396769   \n",
              "4         3          1300           4        1530000  37.740795 -122.413453   \n",
              "\n",
              "   yearbuilt  \n",
              "0       2007  \n",
              "1       2004  \n",
              "2       2003  \n",
              "3       1927  \n",
              "4       1900  "
            ]
          },
          "metadata": {
            "tags": []
          },
          "execution_count": 14
        }
      ]
    },
    {
      "cell_type": "code",
      "metadata": {
        "id": "rBuFHiPNS9Fe",
        "colab_type": "code",
        "colab": {},
        "outputId": "d9cff57d-588f-44c8-f3fb-7fa74f976d67"
      },
      "source": [
        "#Here is a most basic plot of one of the variables\n",
        "\n",
        "plt.figure(figsize=(16,8))\n",
        "plt.plot(housing_df1['lastsoldprice'])\n",
        "plt.show()"
      ],
      "execution_count": 0,
      "outputs": [
        {
          "output_type": "display_data",
          "data": {
            "image/png": "[encoded data removed]",
            "text/plain": [
              "<Figure size 1152x576 with 1 Axes>"
            ]
          },
          "metadata": {
            "tags": [],
            "needs_background": "light"
          }
        }
      ]
    },
    {
      "cell_type": "code",
      "metadata": {
        "id": "G8W6vEIaS9Fg",
        "colab_type": "code",
        "colab": {},
        "outputId": "1923fce8-75b5-455d-ac4b-7a3f1406b1e0"
      },
      "source": [
        "housing_df1.plot.scatter('totalrooms','lastsoldprice', figsize=(10,10))\n",
        "plt.show()"
      ],
      "execution_count": 0,
      "outputs": [
        {
          "output_type": "display_data",
          "data": {
            "image/png": "[encoded data removed]",
            "text/plain": [
              "<Figure size 720x720 with 1 Axes>"
            ]
          },
          "metadata": {
            "tags": [],
            "needs_background": "light"
          }
        }
      ]
    },
    {
      "cell_type": "markdown",
      "metadata": {
        "id": "6gnZj49QS9Fj",
        "colab_type": "text"
      },
      "source": [
        "## Step 2: Preprocessing.  For example:\n",
        " - removing outliers\n",
        " - removing invalid entries\n",
        " - columns/rows that are irrelevant to the task etc."
      ]
    },
    {
      "cell_type": "code",
      "metadata": {
        "id": "NaYQ6DAHS9Fk",
        "colab_type": "code",
        "colab": {}
      },
      "source": [
        "#Outliers in bedroom count: the total number of rooms exceed 20, delete them!\n",
        "housing_df1_clean = housing_df1.loc[housing_df1['totalrooms'] <=20]"
      ],
      "execution_count": 0,
      "outputs": []
    },
    {
      "cell_type": "code",
      "metadata": {
        "id": "VI6U6TqNS9Fn",
        "colab_type": "code",
        "colab": {},
        "outputId": "2e5495d2-66a5-4305-b61e-e0275f53a2c0"
      },
      "source": [
        "print(housing_df1.shape)\n",
        "print(housing_df1_clean.shape)"
      ],
      "execution_count": 0,
      "outputs": [
        {
          "output_type": "stream",
          "text": [
            "(11330, 7)\n",
            "(11309, 7)\n"
          ],
          "name": "stdout"
        }
      ]
    },
    {
      "cell_type": "code",
      "metadata": {
        "id": "JTuWCzMSS9Fq",
        "colab_type": "code",
        "colab": {},
        "outputId": "4f280227-1f16-4eed-f44a-210b225b779b"
      },
      "source": [
        "housing_df1_clean.head()"
      ],
      "execution_count": 0,
      "outputs": [
        {
          "output_type": "execute_result",
          "data": {
            "text/html": [
              "<div>\n",
              "<style scoped>\n",
              "    .dataframe tbody tr th:only-of-type {\n",
              "        vertical-align: middle;\n",
              "    }\n",
              "\n",
              "    .dataframe tbody tr th {\n",
              "        vertical-align: top;\n",
              "    }\n",
              "\n",
              "    .dataframe thead th {\n",
              "        text-align: right;\n",
              "    }\n",
              "</style>\n",
              "<table border=\"1\" class=\"dataframe\">\n",
              "  <thead>\n",
              "    <tr style=\"text-align: right;\">\n",
              "      <th></th>\n",
              "      <th>bedrooms</th>\n",
              "      <th>finishedsqft</th>\n",
              "      <th>totalrooms</th>\n",
              "      <th>lastsoldprice</th>\n",
              "      <th>latitude</th>\n",
              "      <th>longitude</th>\n",
              "      <th>yearbuilt</th>\n",
              "    </tr>\n",
              "  </thead>\n",
              "  <tbody>\n",
              "    <tr>\n",
              "      <th>0</th>\n",
              "      <td>2</td>\n",
              "      <td>1043</td>\n",
              "      <td>4</td>\n",
              "      <td>1300000</td>\n",
              "      <td>37.778705</td>\n",
              "      <td>-122.412635</td>\n",
              "      <td>2007</td>\n",
              "    </tr>\n",
              "    <tr>\n",
              "      <th>1</th>\n",
              "      <td>1</td>\n",
              "      <td>903</td>\n",
              "      <td>3</td>\n",
              "      <td>750000</td>\n",
              "      <td>37.777641</td>\n",
              "      <td>-122.393417</td>\n",
              "      <td>2004</td>\n",
              "    </tr>\n",
              "    <tr>\n",
              "      <th>2</th>\n",
              "      <td>3</td>\n",
              "      <td>1425</td>\n",
              "      <td>6</td>\n",
              "      <td>1495000</td>\n",
              "      <td>37.759198</td>\n",
              "      <td>-122.396516</td>\n",
              "      <td>2003</td>\n",
              "    </tr>\n",
              "    <tr>\n",
              "      <th>3</th>\n",
              "      <td>3</td>\n",
              "      <td>2231</td>\n",
              "      <td>10</td>\n",
              "      <td>2700000</td>\n",
              "      <td>37.761886</td>\n",
              "      <td>-122.396769</td>\n",
              "      <td>1927</td>\n",
              "    </tr>\n",
              "    <tr>\n",
              "      <th>4</th>\n",
              "      <td>3</td>\n",
              "      <td>1300</td>\n",
              "      <td>4</td>\n",
              "      <td>1530000</td>\n",
              "      <td>37.740795</td>\n",
              "      <td>-122.413453</td>\n",
              "      <td>1900</td>\n",
              "    </tr>\n",
              "  </tbody>\n",
              "</table>\n",
              "</div>"
            ],
            "text/plain": [
              "   bedrooms  finishedsqft  totalrooms  lastsoldprice   latitude   longitude  \\\n",
              "0         2          1043           4        1300000  37.778705 -122.412635   \n",
              "1         1           903           3         750000  37.777641 -122.393417   \n",
              "2         3          1425           6        1495000  37.759198 -122.396516   \n",
              "3         3          2231          10        2700000  37.761886 -122.396769   \n",
              "4         3          1300           4        1530000  37.740795 -122.413453   \n",
              "\n",
              "   yearbuilt  \n",
              "0       2007  \n",
              "1       2004  \n",
              "2       2003  \n",
              "3       1927  \n",
              "4       1900  "
            ]
          },
          "metadata": {
            "tags": []
          },
          "execution_count": 19
        }
      ]
    },
    {
      "cell_type": "code",
      "metadata": {
        "id": "ifZNn3uOS9Fs",
        "colab_type": "code",
        "colab": {},
        "outputId": "1827614e-0b0e-43de-c3bd-549b32f5c658"
      },
      "source": [
        "housing_df1_clean.plot.scatter('totalrooms','lastsoldprice', figsize=(10,10))\n",
        "plt.show()"
      ],
      "execution_count": 0,
      "outputs": [
        {
          "output_type": "display_data",
          "data": {
            "image/png": "[encoded data removed]",
            "text/plain": [
              "<Figure size 720x720 with 1 Axes>"
            ]
          },
          "metadata": {
            "tags": [],
            "needs_background": "light"
          }
        }
      ]
    },
    {
      "cell_type": "code",
      "metadata": {
        "id": "HI90ssY9S9Fv",
        "colab_type": "code",
        "colab": {},
        "outputId": "c5287916-9239-459d-e86e-a9f824cfc7a5"
      },
      "source": [
        "housing_df1_clean.tail()"
      ],
      "execution_count": 0,
      "outputs": [
        {
          "output_type": "execute_result",
          "data": {
            "text/html": [
              "<div>\n",
              "<style scoped>\n",
              "    .dataframe tbody tr th:only-of-type {\n",
              "        vertical-align: middle;\n",
              "    }\n",
              "\n",
              "    .dataframe tbody tr th {\n",
              "        vertical-align: top;\n",
              "    }\n",
              "\n",
              "    .dataframe thead th {\n",
              "        text-align: right;\n",
              "    }\n",
              "</style>\n",
              "<table border=\"1\" class=\"dataframe\">\n",
              "  <thead>\n",
              "    <tr style=\"text-align: right;\">\n",
              "      <th></th>\n",
              "      <th>bedrooms</th>\n",
              "      <th>finishedsqft</th>\n",
              "      <th>totalrooms</th>\n",
              "      <th>lastsoldprice</th>\n",
              "      <th>latitude</th>\n",
              "      <th>longitude</th>\n",
              "      <th>yearbuilt</th>\n",
              "    </tr>\n",
              "  </thead>\n",
              "  <tbody>\n",
              "    <tr>\n",
              "      <th>11325</th>\n",
              "      <td>3</td>\n",
              "      <td>2100</td>\n",
              "      <td>10</td>\n",
              "      <td>1950000</td>\n",
              "      <td>37.739623</td>\n",
              "      <td>-122.428899</td>\n",
              "      <td>1900</td>\n",
              "    </tr>\n",
              "    <tr>\n",
              "      <th>11326</th>\n",
              "      <td>2</td>\n",
              "      <td>977</td>\n",
              "      <td>5</td>\n",
              "      <td>1030000</td>\n",
              "      <td>37.775184</td>\n",
              "      <td>-122.411567</td>\n",
              "      <td>2006</td>\n",
              "    </tr>\n",
              "    <tr>\n",
              "      <th>11327</th>\n",
              "      <td>2</td>\n",
              "      <td>875</td>\n",
              "      <td>4</td>\n",
              "      <td>565000</td>\n",
              "      <td>37.709411</td>\n",
              "      <td>-122.465031</td>\n",
              "      <td>1950</td>\n",
              "    </tr>\n",
              "    <tr>\n",
              "      <th>11328</th>\n",
              "      <td>2</td>\n",
              "      <td>697</td>\n",
              "      <td>4</td>\n",
              "      <td>762000</td>\n",
              "      <td>37.755586</td>\n",
              "      <td>-122.508063</td>\n",
              "      <td>1904</td>\n",
              "    </tr>\n",
              "    <tr>\n",
              "      <th>11329</th>\n",
              "      <td>3</td>\n",
              "      <td>1539</td>\n",
              "      <td>7</td>\n",
              "      <td>950000</td>\n",
              "      <td>37.734334</td>\n",
              "      <td>-122.413534</td>\n",
              "      <td>1976</td>\n",
              "    </tr>\n",
              "  </tbody>\n",
              "</table>\n",
              "</div>"
            ],
            "text/plain": [
              "       bedrooms  finishedsqft  totalrooms  lastsoldprice   latitude  \\\n",
              "11325         3          2100          10        1950000  37.739623   \n",
              "11326         2           977           5        1030000  37.775184   \n",
              "11327         2           875           4         565000  37.709411   \n",
              "11328         2           697           4         762000  37.755586   \n",
              "11329         3          1539           7         950000  37.734334   \n",
              "\n",
              "        longitude  yearbuilt  \n",
              "11325 -122.428899       1900  \n",
              "11326 -122.411567       2006  \n",
              "11327 -122.465031       1950  \n",
              "11328 -122.508063       1904  \n",
              "11329 -122.413534       1976  "
            ]
          },
          "metadata": {
            "tags": []
          },
          "execution_count": 21
        }
      ]
    },
    {
      "cell_type": "markdown",
      "metadata": {
        "id": "UYu_a_buS9Fx",
        "colab_type": "text"
      },
      "source": [
        "## Step 3: Data Engineering:  This part is pretty open but can make the difference, leverage your math/stat skills here.  For example,\n",
        "\n",
        "- feature mapping\n",
        "- principle components\n",
        "- label encoding\n",
        "- NLP usch as embedding etc.\n",
        "\n",
        "However you can get the juice out of data do that!"
      ]
    },
    {
      "cell_type": "markdown",
      "metadata": {
        "id": "i0d-MycLS9Fy",
        "colab_type": "text"
      },
      "source": [
        "#### Just regression for now\n",
        "\n",
        "- need to figure the feaures for input matrix - we stick to 3 numerical variables for now\n",
        "- Need a bias column (intercept) of ones added\n",
        "- Output is housing prices"
      ]
    },
    {
      "cell_type": "code",
      "metadata": {
        "id": "U27Tx3nBS9Fz",
        "colab_type": "code",
        "colab": {}
      },
      "source": [
        "#Start working towards a data matrix: We are just going to use the 4 obvious numerical columns\n",
        "A = np.array(housing_df1_clean.iloc[:,:-4])"
      ],
      "execution_count": 0,
      "outputs": []
    },
    {
      "cell_type": "code",
      "metadata": {
        "id": "urpSLwNLS9F1",
        "colab_type": "code",
        "colab": {},
        "outputId": "5d9e6e02-9abc-4abc-bff8-0c1a1ab19f59"
      },
      "source": [
        "A.shape"
      ],
      "execution_count": 0,
      "outputs": [
        {
          "output_type": "execute_result",
          "data": {
            "text/plain": [
              "(11309, 3)"
            ]
          },
          "metadata": {
            "tags": []
          },
          "execution_count": 23
        }
      ]
    },
    {
      "cell_type": "code",
      "metadata": {
        "id": "XPkea1-MS9F3",
        "colab_type": "code",
        "colab": {}
      },
      "source": [
        "#Add on the intercept\n",
        "intercept = np.ones(len(A))\n",
        "#Combine\n",
        "X = np.c_[intercept,A]\n",
        "#Target\n",
        "y = np.array(housing_df1_clean.iloc[:,-3])"
      ],
      "execution_count": 0,
      "outputs": []
    },
    {
      "cell_type": "code",
      "metadata": {
        "id": "MN0bz8RaS9F6",
        "colab_type": "code",
        "colab": {},
        "outputId": "f9354fbf-037c-4f6e-f0fe-d01fb939bf2c"
      },
      "source": [
        "X[:5]"
      ],
      "execution_count": 0,
      "outputs": [
        {
          "output_type": "execute_result",
          "data": {
            "text/plain": [
              "array([[1.000e+00, 2.000e+00, 1.043e+03, 4.000e+00],\n",
              "       [1.000e+00, 1.000e+00, 9.030e+02, 3.000e+00],\n",
              "       [1.000e+00, 3.000e+00, 1.425e+03, 6.000e+00],\n",
              "       [1.000e+00, 3.000e+00, 2.231e+03, 1.000e+01],\n",
              "       [1.000e+00, 3.000e+00, 1.300e+03, 4.000e+00]])"
            ]
          },
          "metadata": {
            "tags": []
          },
          "execution_count": 25
        }
      ]
    },
    {
      "cell_type": "code",
      "metadata": {
        "id": "zIfTGaMXS9F8",
        "colab_type": "code",
        "colab": {},
        "outputId": "76988f93-f194-46e6-c102-7e4150a6b1be"
      },
      "source": [
        "y[:5]"
      ],
      "execution_count": 0,
      "outputs": [
        {
          "output_type": "execute_result",
          "data": {
            "text/plain": [
              "array([37.778705, 37.777641, 37.759198, 37.761886, 37.740795])"
            ]
          },
          "metadata": {
            "tags": []
          },
          "execution_count": 26
        }
      ]
    },
    {
      "cell_type": "markdown",
      "metadata": {
        "id": "V1FZoHTlS9F_",
        "colab_type": "text"
      },
      "source": [
        "### <font color='orange'> Here is the routine linear algebra \"least squares method\": rearely used in practice </font>"
      ]
    },
    {
      "cell_type": "code",
      "metadata": {
        "id": "HzEFCUQ1S9F_",
        "colab_type": "code",
        "colab": {}
      },
      "source": [
        "from numpy import linalg as la"
      ],
      "execution_count": 0,
      "outputs": []
    },
    {
      "cell_type": "code",
      "metadata": {
        "id": "E3H0J0AAS9GE",
        "colab_type": "code",
        "colab": {}
      },
      "source": [
        "Theta = np.dot(la.inv(np.dot(np.transpose(X),X)),np.dot(np.transpose(X),y))"
      ],
      "execution_count": 0,
      "outputs": []
    },
    {
      "cell_type": "code",
      "metadata": {
        "id": "KoUeJHI5S9GH",
        "colab_type": "code",
        "colab": {},
        "outputId": "f82337bb-c932-49ac-e698-31e6bc39bcb5"
      },
      "source": [
        "Theta"
      ],
      "execution_count": 0,
      "outputs": [
        {
          "output_type": "execute_result",
          "data": {
            "text/plain": [
              "array([ 3.77678487e+01, -6.89490755e-03,  1.08552751e-05, -1.23034526e-03])"
            ]
          },
          "metadata": {
            "tags": []
          },
          "execution_count": 29
        }
      ]
    },
    {
      "cell_type": "markdown",
      "metadata": {
        "id": "TexWH_XWS9GK",
        "colab_type": "text"
      },
      "source": [
        "##### So our model is going to be $y ~ 244100 - -46690* bedrooms + 838*finishedsqft - -30946*total\\;rooms$"
      ]
    },
    {
      "cell_type": "code",
      "metadata": {
        "id": "nSlDwCLqS9GL",
        "colab_type": "code",
        "colab": {},
        "outputId": "a249e20d-bdb9-4529-a20e-3d497a36ea97"
      },
      "source": [
        "#Or simply\n",
        "X_test = [1,3,1000, 6]\n",
        "pred_price = np.dot(Theta.T,X_test)\n",
        "pred_price"
      ],
      "execution_count": 0,
      "outputs": [
        {
          "output_type": "execute_result",
          "data": {
            "text/plain": [
              "37.750637155458094"
            ]
          },
          "metadata": {
            "tags": []
          },
          "execution_count": 30
        }
      ]
    },
    {
      "cell_type": "markdown",
      "metadata": {
        "id": "jvPU3eHuS9GO",
        "colab_type": "text"
      },
      "source": [
        "The function model we developed is called the **hypothesis**"
      ]
    },
    {
      "cell_type": "markdown",
      "metadata": {
        "id": "zi5OrDYxS9GP",
        "colab_type": "text"
      },
      "source": [
        "### <font color='blue'> Gradient descent: iterative solution - widely used outside of mathematics</font>"
      ]
    },
    {
      "cell_type": "markdown",
      "metadata": {
        "id": "YCHyno_QS9GQ",
        "colab_type": "text"
      },
      "source": [
        "#### Basic examples:\n",
        "1.  To find the where the minimum of $f(x) = x^2$ occurs"
      ]
    },
    {
      "cell_type": "code",
      "metadata": {
        "id": "dToarHR6S9GQ",
        "colab_type": "code",
        "colab": {},
        "outputId": "88b0077c-6fd7-48c2-ff41-2b0a66d24cf3"
      },
      "source": [
        "## initial value 1, learning rate alpha=1/4, number of iterations = 10\n",
        "x = 1 \n",
        "alpha = 1/4 \n",
        "for i in range(10): \n",
        "    x = x - alpha*2*x\n",
        "print(x)"
      ],
      "execution_count": 0,
      "outputs": [
        {
          "output_type": "stream",
          "text": [
            "0.0009765625\n"
          ],
          "name": "stdout"
        }
      ]
    },
    {
      "cell_type": "code",
      "metadata": {
        "id": "VEfoNykRS9GT",
        "colab_type": "code",
        "colab": {},
        "outputId": "4d905596-54c6-41a6-bff1-77ef6e9893c7"
      },
      "source": [
        "## initial value 1, learning rate alpha=1, number of iterations = 10\n",
        "x = 1 \n",
        "alpha = 1 \n",
        "for i in range(10): \n",
        "    x = x - alpha*2*x\n",
        "print(x)"
      ],
      "execution_count": 0,
      "outputs": [
        {
          "output_type": "stream",
          "text": [
            "1\n"
          ],
          "name": "stdout"
        }
      ]
    },
    {
      "cell_type": "code",
      "metadata": {
        "id": "Sa4n_GnCS9GV",
        "colab_type": "code",
        "colab": {},
        "outputId": "4bf508eb-7086-4204-aea3-d644d3df3cef"
      },
      "source": [
        "## initial value 1, learning rate alpha=1/2, number of iterations = 10\n",
        "x = 1 \n",
        "alpha = 0.5\n",
        "for i in range(10): \n",
        "    x = x - alpha*2*x\n",
        "print(x)"
      ],
      "execution_count": 0,
      "outputs": [
        {
          "output_type": "stream",
          "text": [
            "0.0\n"
          ],
          "name": "stdout"
        }
      ]
    },
    {
      "cell_type": "code",
      "metadata": {
        "id": "nuQOKIj2S9GX",
        "colab_type": "code",
        "colab": {},
        "outputId": "206be685-ab91-4859-9e80-97c6bf35cb41"
      },
      "source": [
        "## initial value 1, learning rate alpha=2, number of iterations = 10\n",
        "x = 1 \n",
        "alpha = 2 \n",
        "for i in range(10): \n",
        "    x = x - alpha*2*x\n",
        "print(x)"
      ],
      "execution_count": 0,
      "outputs": [
        {
          "output_type": "stream",
          "text": [
            "59049\n"
          ],
          "name": "stdout"
        }
      ]
    },
    {
      "cell_type": "markdown",
      "metadata": {
        "id": "tG74qmqGS9Gb",
        "colab_type": "text"
      },
      "source": [
        "## Now, the three ingradients to supervised machine learning are:\n",
        "\n",
        "#### 1.  The general, the linear regression hypothesis function is:  $$h_{\\Theta}(X) = \\theta_0 + \\theta_1x_1 + \\theta_2x_2 + ... + \\theta_nx_n = \\Theta^TX$$\n",
        "\n",
        "#### 2. The cost function then would be $$ J(\\Theta) = \\Sigma_{i=1}^{m}(h_{\\Theta}(X^{(i)} - y^{(i)})^2  \\; where\\;\\;i=1\\;.\\;.\\;.m$$ \n",
        "$\\;\\;\\;\\;$ or something like this depnding on the hypothesis\n",
        "\n",
        "#### 3. And the gradient descent:  $$\\Theta_{k+1} = \\Theta_{k} - \\alpha*grad(J(\\Theta_{k}),\\;\\; k = 0, 1,2,3,...)$$"
      ]
    },
    {
      "cell_type": "code",
      "metadata": {
        "id": "bgRpskjaS9Gb",
        "colab_type": "code",
        "colab": {},
        "outputId": "a90e8080-e618-494c-b203-393f27520c25"
      },
      "source": [
        "# Initialize the paarmeter set theta with zeros length as equal to column size in X\n",
        "theta = np.zeros(X.shape[1])\n",
        "print(theta)"
      ],
      "execution_count": 0,
      "outputs": [
        {
          "output_type": "stream",
          "text": [
            "[0. 0. 0. 0.]\n"
          ],
          "name": "stdout"
        }
      ]
    },
    {
      "cell_type": "code",
      "metadata": {
        "id": "aGrpTKYNS9Ge",
        "colab_type": "code",
        "colab": {}
      },
      "source": [
        "def cost_function(X, y, theta):\n",
        "    \"\"\"\n",
        "    cost_function(X, y, theta) computes the cost of using theta as the\n",
        "    parameter for linear regression to fit the data points in X and y\n",
        "    \"\"\"\n",
        "    ## number of training examples\n",
        "    m = len(y) \n",
        "    \n",
        "    ## Calculate the cost with the given parameters\n",
        "    J = 1/(2*m)*np.sum((X.dot(theta)-y)**2)\n",
        "    \n",
        "    return J"
      ],
      "execution_count": 0,
      "outputs": []
    },
    {
      "cell_type": "code",
      "metadata": {
        "id": "xieaKi73S9Gg",
        "colab_type": "code",
        "colab": {},
        "outputId": "bf35d812-2146-49f3-cc78-a6f16863e745"
      },
      "source": [
        "cost_function(X,y,theta)"
      ],
      "execution_count": 0,
      "outputs": [
        {
          "output_type": "execute_result",
          "data": {
            "text/plain": [
              "712.8973128387214"
            ]
          },
          "metadata": {
            "tags": []
          },
          "execution_count": 39
        }
      ]
    },
    {
      "cell_type": "code",
      "metadata": {
        "id": "S-8KmAscS9Gi",
        "colab_type": "code",
        "colab": {}
      },
      "source": [
        "#It is very important to scale the features, especially when using iterative solutions\n",
        "from numpy import linalg as la\n",
        "from sklearn.preprocessing import MinMaxScaler\n",
        "#we are going to scale the x & y\n",
        "x_scaler = MinMaxScaler()\n",
        "y_scaler = MinMaxScaler()"
      ],
      "execution_count": 0,
      "outputs": []
    },
    {
      "cell_type": "code",
      "metadata": {
        "id": "qZJYM_vCS9Gk",
        "colab_type": "code",
        "colab": {}
      },
      "source": [
        "X = x_scaler.fit_transform(X[:])\n",
        "y = y_scaler.fit_transform(y.reshape(-1, 1))"
      ],
      "execution_count": 0,
      "outputs": []
    },
    {
      "cell_type": "code",
      "metadata": {
        "id": "ErHt9eRfS9Gm",
        "colab_type": "code",
        "colab": {}
      },
      "source": [
        "def gradient_descent(X, y, theta, alpha, iterations):\n",
        "    \"\"\"\n",
        "    gradient_descent Performs gradient descent to learn theta\n",
        "    theta = GRADIENTDESENT(X, y, theta, alpha, num_iters) updates theta by \n",
        "    taking num_iters gradient steps with learning rate alpha\n",
        "    \"\"\"\n",
        "    \n",
        "    m = len(y)\n",
        "    cost_history = [0] * iterations\n",
        "    \n",
        "    for iteration in range(iterations):\n",
        "        hypothesis = X.dot(theta)\n",
        "        loss = hypothesis-y.ravel()\n",
        "        gradient = X.T.dot(loss)/m\n",
        "        theta = theta - alpha*gradient\n",
        "        cost = cost_function(X, y, theta)\n",
        "        cost_history[iteration] = cost\n",
        "        print(cost)\n",
        "\n",
        "    return theta, cost_history"
      ],
      "execution_count": 0,
      "outputs": []
    },
    {
      "cell_type": "code",
      "metadata": {
        "id": "Xvw041lzS9Gp",
        "colab_type": "code",
        "colab": {},
        "outputId": "5429ec45-b067-4b4a-94bf-f6e515647718"
      },
      "source": [
        "t,c = gradient_descent(X,y,theta,0.01, 10)"
      ],
      "execution_count": 0,
      "outputs": [
        {
          "output_type": "stream",
          "text": [
            "1948.4167947822968\n",
            "1945.719408226032\n",
            "1943.0277963025433\n",
            "1940.3419465745617\n",
            "1937.661846631763\n",
            "1934.9874840905666\n",
            "1932.3188465942087\n",
            "1929.6559218125317\n",
            "1926.9986974421136\n",
            "1924.3471612060362\n"
          ],
          "name": "stdout"
        }
      ]
    },
    {
      "cell_type": "code",
      "metadata": {
        "id": "9Er2WLQtS9Gr",
        "colab_type": "code",
        "colab": {},
        "outputId": "ae5cc564-0048-4eb5-ffcb-fca9eb5ff62a"
      },
      "source": [
        "t"
      ],
      "execution_count": 0,
      "outputs": [
        {
          "output_type": "execute_result",
          "data": {
            "text/plain": [
              "array([0.        , 0.00654788, 0.00307887, 0.01337366])"
            ]
          },
          "metadata": {
            "tags": []
          },
          "execution_count": 45
        }
      ]
    },
    {
      "cell_type": "code",
      "metadata": {
        "id": "RQGTsvqfS9Gt",
        "colab_type": "code",
        "colab": {},
        "outputId": "8eb36e24-1f0f-4882-fe1f-70c76a7a9558"
      },
      "source": [
        "c"
      ],
      "execution_count": 0,
      "outputs": [
        {
          "output_type": "execute_result",
          "data": {
            "text/plain": [
              "[1948.4167947822968,\n",
              " 1945.719408226032,\n",
              " 1943.0277963025433,\n",
              " 1940.3419465745617,\n",
              " 1937.661846631763,\n",
              " 1934.9874840905666,\n",
              " 1932.3188465942087,\n",
              " 1929.6559218125317,\n",
              " 1926.9986974421136,\n",
              " 1924.3471612060362]"
            ]
          },
          "metadata": {
            "tags": []
          },
          "execution_count": 46
        }
      ]
    },
    {
      "cell_type": "code",
      "metadata": {
        "collapsed": true,
        "id": "MTQwtUGQS9Gx",
        "colab_type": "code",
        "colab": {}
      },
      "source": [
        ""
      ],
      "execution_count": 0,
      "outputs": []
    }
  ]
}